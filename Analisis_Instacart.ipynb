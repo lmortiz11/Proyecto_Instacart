{
 "cells": [
  {
   "cell_type": "markdown",
   "metadata": {
    "id": "3Xg_RQfnafXz"
   },
   "source": [
    "# ¡Llena ese carrito!"
   ]
  },
  {
   "cell_type": "markdown",
   "metadata": {
    "id": "mhIvmmkW414q"
   },
   "source": [
    "# Introducción\n",
    "\n",
    "Instacart es una plataforma de entregas de comestibles donde la clientela puede registrar un pedido y hacer que se lo entreguen, similar a Uber Eats y Door Dash.\n",
    "El conjunto de datos que te hemos proporcionado tiene modificaciones del original. Redujimos el tamaño del conjunto para que tus cálculos se hicieran más rápido e introdujimos valores ausentes y duplicados. Tuvimos cuidado de conservar las distribuciones de los datos originales cuando hicimos los cambios.\n",
    "\n",
    "Debes completar tres pasos. Para cada uno de ellos, escribe una breve introducción que refleje con claridad cómo pretendes resolver cada paso, y escribe párrafos explicatorios que justifiquen tus decisiones al tiempo que avanzas en tu solución.  También escribe una conclusión que resuma tus hallazgos y elecciones.\n"
   ]
  },
  {
   "cell_type": "markdown",
   "metadata": {
    "id": "3MbyzpOQZ5Or"
   },
   "source": [
    "## Diccionario de datos\n",
    "\n",
    "Hay cinco tablas en el conjunto de datos, y tendrás que usarlas todas para hacer el preprocesamiento de datos y el análisis exploratorio de datos. A continuación se muestra un diccionario de datos que enumera las columnas de cada tabla y describe los datos que contienen.\n",
    "\n",
    "- `instacart_orders.csv`: cada fila corresponde a un pedido en la aplicación Instacart.\n",
    "    - `'order_id'`: número de ID que identifica de manera única cada pedido.\n",
    "    - `'user_id'`: número de ID que identifica de manera única la cuenta de cada cliente.\n",
    "    - `'order_number'`: el número de veces que este cliente ha hecho un pedido.\n",
    "    - `'order_dow'`: día de la semana en que se hizo el pedido (0 si es domingo).\n",
    "    - `'order_hour_of_day'`: hora del día en que se hizo el pedido.\n",
    "    - `'days_since_prior_order'`: número de días transcurridos desde que este cliente hizo su pedido anterior.\n",
    "- `products.csv`: cada fila corresponde a un producto único que pueden comprar los clientes.\n",
    "    - `'product_id'`: número ID que identifica de manera única cada producto.\n",
    "    - `'product_name'`: nombre del producto.\n",
    "    - `'aisle_id'`: número ID que identifica de manera única cada categoría de pasillo de víveres.\n",
    "    - `'department_id'`: número ID que identifica de manera única cada departamento de víveres.\n",
    "- `order_products.csv`: cada fila corresponde a un artículo pedido en un pedido.\n",
    "    - `'order_id'`: número de ID que identifica de manera única cada pedido.\n",
    "    - `'product_id'`: número ID que identifica de manera única cada producto.\n",
    "    - `'add_to_cart_order'`: el orden secuencial en el que se añadió cada artículo en el carrito.\n",
    "    - `'reordered'`: 0 si el cliente nunca ha pedido este producto antes, 1 si lo ha pedido.\n",
    "- `aisles.csv`\n",
    "    - `'aisle_id'`: número ID que identifica de manera única cada categoría de pasillo de víveres.\n",
    "    - `'aisle'`: nombre del pasillo.\n",
    "- `departments.csv`\n",
    "    - `'department_id'`: número ID que identifica de manera única cada departamento de víveres.\n",
    "    - `'department'`: nombre del departamento."
   ]
  },
  {
   "cell_type": "markdown",
   "metadata": {
    "id": "n3Ha_cNSZ8lK"
   },
   "source": [
    "# Paso 1. Descripción de los datos\n",
    "\n",
    "Lee los archivos de datos (`/datasets/instacart_orders.csv`, `/datasets/products.csv`, `/datasets/aisles.csv`, `/datasets/departments.csv` y `/datasets/order_products.csv`) con `pd.read_csv()` usando los parámetros adecuados para leer los datos correctamente. Verifica la información para cada DataFrame creado.\n"
   ]
  },
  {
   "cell_type": "markdown",
   "metadata": {
    "id": "OmlQPLlyaAfR"
   },
   "source": [
    "## Plan de solución\n",
    "\n",
    "Escribe aquí tu plan de solución para el Paso 1. Descripción de los datos."
   ]
  },
  {
   "cell_type": "code",
   "execution_count": 1,
   "metadata": {
    "id": "fbf1adab"
   },
   "outputs": [],
   "source": [
    "# importar librerías\n",
    "import pandas as pd\n",
    "from matplotlib import pyplot as plt\n",
    "import numpy as np"
   ]
  },
  {
   "cell_type": "code",
   "execution_count": 2,
   "metadata": {
    "id": "ad36396d"
   },
   "outputs": [],
   "source": [
    "# leer conjuntos de datos en los DataFrames\n",
    "#Se lee instacart_ordes, este archivo esta delimitado por;\n",
    "instacart_orders=pd.read_csv('/datasets/instacart_orders.csv',sep=';')\n",
    "\n",
    "#Leer archivo de products, el archivo esta separado por ;\n",
    "products=pd.read_csv('/datasets/products.csv', sep =';')\n",
    "\n",
    "# Leer archivo de aisles, el archivo esta separado por ;\n",
    "aisles=pd.read_csv('/datasets/aisles.csv', sep=';')\n",
    "\n",
    "#Leer el archivo de departments\n",
    "departments=pd.read_csv('/datasets/departments.csv',sep=';')\n",
    "\n",
    "#Leer el archivo de order_products\n",
    "order_products=pd.read_csv('/datasets/order_products.csv',sep=';')"
   ]
  },
  {
   "cell_type": "code",
   "execution_count": 3,
   "metadata": {
    "id": "ad6a1efa"
   },
   "outputs": [
    {
     "name": "stdout",
     "output_type": "stream",
     "text": [
      "Información de instacart_orders\n",
      "<class 'pandas.core.frame.DataFrame'>\n",
      "RangeIndex: 478967 entries, 0 to 478966\n",
      "Data columns (total 6 columns):\n",
      " #   Column                  Non-Null Count   Dtype  \n",
      "---  ------                  --------------   -----  \n",
      " 0   order_id                478967 non-null  int64  \n",
      " 1   user_id                 478967 non-null  int64  \n",
      " 2   order_number            478967 non-null  int64  \n",
      " 3   order_dow               478967 non-null  int64  \n",
      " 4   order_hour_of_day       478967 non-null  int64  \n",
      " 5   days_since_prior_order  450148 non-null  float64\n",
      "dtypes: float64(1), int64(5)\n",
      "memory usage: 21.9 MB\n",
      "\n",
      "Información de products\n",
      "<class 'pandas.core.frame.DataFrame'>\n",
      "RangeIndex: 49694 entries, 0 to 49693\n",
      "Data columns (total 4 columns):\n",
      " #   Column         Non-Null Count  Dtype \n",
      "---  ------         --------------  ----- \n",
      " 0   product_id     49694 non-null  int64 \n",
      " 1   product_name   48436 non-null  object\n",
      " 2   aisle_id       49694 non-null  int64 \n",
      " 3   department_id  49694 non-null  int64 \n",
      "dtypes: int64(3), object(1)\n",
      "memory usage: 1.5+ MB\n",
      "\n",
      "Información de Aisles\n",
      "<class 'pandas.core.frame.DataFrame'>\n",
      "RangeIndex: 134 entries, 0 to 133\n",
      "Data columns (total 2 columns):\n",
      " #   Column    Non-Null Count  Dtype \n",
      "---  ------    --------------  ----- \n",
      " 0   aisle_id  134 non-null    int64 \n",
      " 1   aisle     134 non-null    object\n",
      "dtypes: int64(1), object(1)\n",
      "memory usage: 2.2+ KB\n",
      "\n",
      "Información de Department\n",
      "<class 'pandas.core.frame.DataFrame'>\n",
      "RangeIndex: 21 entries, 0 to 20\n",
      "Data columns (total 2 columns):\n",
      " #   Column         Non-Null Count  Dtype \n",
      "---  ------         --------------  ----- \n",
      " 0   department_id  21 non-null     int64 \n",
      " 1   department     21 non-null     object\n",
      "dtypes: int64(1), object(1)\n",
      "memory usage: 464.0+ bytes\n",
      "\n",
      "Información de order_product\n",
      "<class 'pandas.core.frame.DataFrame'>\n",
      "RangeIndex: 4545007 entries, 0 to 4545006\n",
      "Data columns (total 4 columns):\n",
      " #   Column             Non-Null Count    Dtype  \n",
      "---  ------             --------------    -----  \n",
      " 0   order_id           4545007 non-null  int64  \n",
      " 1   product_id         4545007 non-null  int64  \n",
      " 2   add_to_cart_order  4544171 non-null  float64\n",
      " 3   reordered          4545007 non-null  int64  \n",
      "dtypes: float64(1), int64(3)\n",
      "memory usage: 138.7 MB\n"
     ]
    }
   ],
   "source": [
    "# Se muestra la información de instacart_orders\n",
    "print('Información de instacart_orders')\n",
    "instacart_orders.info()\n",
    "print()\n",
    "\n",
    "#Información de products\n",
    "print('Información de products')\n",
    "products.info()\n",
    "print()\n",
    "\n",
    "#Información de aisles\n",
    "print('Información de Aisles')\n",
    "aisles.info()\n",
    "print()\n",
    "\n",
    "#información de department\n",
    "print('Información de Department')\n",
    "departments.info()\n",
    "print()\n",
    "\n",
    "#Información de order_product\n",
    "print('Información de order_product')\n",
    "order_products.info(show_counts=True )"
   ]
  },
  {
   "cell_type": "markdown",
   "metadata": {
    "id": "t75BD19oaR5f"
   },
   "source": [
    "## Conclusiones sobre los DataFrames\n",
    "\n",
    "### Instacart_orders DataFrame\n",
    "\n",
    "Se ve que los datos de este archivo estan muy completos, en el único que faltan datos es en days_since_prior_order columna, order_dow que es el día de la semana en que se ha hecho un pedido es de tipo entero. El tipo de cada columna esta bien no hay que realizarle cambios.\n",
    "\n",
    "### Products DataFrame\n",
    "Solamente hay elementos faltantes en product_name. Los nombres faltantes se pueden obtener con el Id del producto, ya que eeste es único para cada producto. El tipo de cada columna esta correcto\n",
    "\n",
    "### Aisles y department DataFrame\n",
    "Estos archivos no tiene elementos faltantes y el tipo de cada columna esta correcto\n",
    "\n",
    "### Order products DataFrame\n",
    "Este contiene muchas filas, solo tiene datos faltantes en la columna de 'add_to_cart_order', si esta es una característica importante se puede llenar los datos que faltan, teniendo en cuenta el id de la orden se mira si las demás filas de esta orden tienen este dato y se puede deducir cual es valor que falta. Igualmente el 'add_to_cart_order' se puede converir a int ya que no hay valor con decimales. El resto de los datos están completos."
   ]
  },
  {
   "cell_type": "markdown",
   "metadata": {
    "id": "8RJHqxVmaVsF"
   },
   "source": [
    "# Paso 2. Preprocesamiento de los datos\n",
    "\n",
    "Preprocesa los datos de la siguiente manera:\n",
    "\n",
    "- Verifica y corrige los tipos de datos (por ejemplo, asegúrate de que las columnas de ID sean números enteros).\n",
    "- Identifica y completa los valores ausentes.\n",
    "- Identifica y elimina los valores duplicados.\n",
    "\n",
    "Asegúrate de explicar qué tipos de valores ausentes y duplicados encontraste, cómo los completaste o eliminaste y por qué usaste esos métodos. ¿Por qué crees que estos valores ausentes y duplicados pueden haber estado presentes en el conjunto de datos?"
   ]
  },
  {
   "cell_type": "markdown",
   "metadata": {
    "id": "p6poABZQaZYb"
   },
   "source": [
    "## Plan de solución\n",
    "\n",
    "Escribe aquí tu plan para el Paso 2. Preprocesamiento de los datos.\n",
    "\n",
    "Para cada archivo se va a buscar y eliminar las filas que estan totalmente duplicadas, luego se van a buscar los datos ausentes y se reescribiran depenediendo de lo que representen. También se vera si los tipos de datos son correctos o es necesario cambiarlos, por ejemplo anteriormente se observo datos que son floats que se pueder converir a int. "
   ]
  },
  {
   "cell_type": "markdown",
   "metadata": {
    "id": "07357848-dc64-4156-9cc3-01ff4365226d"
   },
   "source": [
    "## Encuentra y elimina los valores duplicados (y describe cómo tomaste tus decisiones)."
   ]
  },
  {
   "cell_type": "markdown",
   "metadata": {
    "id": "f179f0a9"
   },
   "source": [
    "### `instacart_orders` data frame"
   ]
  },
  {
   "cell_type": "code",
   "execution_count": 4,
   "metadata": {
    "id": "b99297a5-405a-463d-8535-9adc3da4ad74"
   },
   "outputs": [
    {
     "name": "stdout",
     "output_type": "stream",
     "text": [
      "Hay 15 datos duplicados\n"
     ]
    }
   ],
   "source": [
    "# Revisa si hay pedidos duplicados\n",
    "print ('Hay', instacart_orders.duplicated().sum(), 'datos duplicados')"
   ]
  },
  {
   "cell_type": "markdown",
   "metadata": {
    "id": "PEkwUX_gvt5A"
   },
   "source": [
    "¿Tienes líneas duplicadas? Si sí, ¿qué tienen en común?"
   ]
  },
  {
   "cell_type": "code",
   "execution_count": 5,
   "metadata": {},
   "outputs": [
    {
     "name": "stdout",
     "output_type": "stream",
     "text": [
      "        order_id  user_id  order_number  order_dow  order_hour_of_day  \\\n",
      "145574    794638    50898            24          3                  2   \n",
      "223105   2160484   107525            16          3                  2   \n",
      "230807   1918001   188546            14          3                  2   \n",
      "266232   1782114   106752             1          3                  2   \n",
      "273805   1112182   202304            84          3                  2   \n",
      "284038   2845099    31189            11          3                  2   \n",
      "311713   1021560    53767             3          3                  2   \n",
      "321100    408114    68324             4          3                  2   \n",
      "323900   1919531   191501            32          3                  2   \n",
      "345917   2232988    82565             1          3                  2   \n",
      "371905    391768    57671            19          3                  2   \n",
      "394347    467134    63189            21          3                  2   \n",
      "411408   1286742   183220            48          3                  2   \n",
      "415163   2282673    86751            49          3                  2   \n",
      "441599   2125197    14050            48          3                  2   \n",
      "\n",
      "        days_since_prior_order  \n",
      "145574                     2.0  \n",
      "223105                    30.0  \n",
      "230807                    16.0  \n",
      "266232                     NaN  \n",
      "273805                     6.0  \n",
      "284038                     7.0  \n",
      "311713                     9.0  \n",
      "321100                    18.0  \n",
      "323900                     7.0  \n",
      "345917                     NaN  \n",
      "371905                    10.0  \n",
      "394347                     2.0  \n",
      "411408                     4.0  \n",
      "415163                     2.0  \n",
      "441599                     3.0  \n"
     ]
    }
   ],
   "source": [
    "#imprimo cuales son las filas que están repetidas para ver que tinene en común\n",
    "instacart_orders_duplicated=instacart_orders[instacart_orders.duplicated()]\n",
    "print(instacart_orders_duplicated)"
   ]
  },
  {
   "cell_type": "code",
   "execution_count": 6,
   "metadata": {
    "id": "0d44de5d"
   },
   "outputs": [
    {
     "name": "stdout",
     "output_type": "stream",
     "text": [
      "15\n"
     ]
    }
   ],
   "source": [
    "# Se observa que todos los datos duplicados son de pedidos que se hicieron el miercoles a las 2:00 am\n",
    "# Verifica todos estos pedidos \n",
    "pedidos_miercoles=instacart_orders.loc[(instacart_orders['order_dow']==3) & (instacart_orders['order_hour_of_day']==2)] \n",
    "print(pedidos_miercoles.duplicated().sum())"
   ]
  },
  {
   "cell_type": "markdown",
   "metadata": {
    "id": "vu2OWyoqwOx5"
   },
   "source": [
    "¿Qué sugiere este resultado?\n",
    "\n",
    "Que el día miercoles a las 2am hubo una falla y se duplicaron 15 pedidos"
   ]
  },
  {
   "cell_type": "code",
   "execution_count": 7,
   "metadata": {
    "id": "480563c7"
   },
   "outputs": [
    {
     "data": {
      "text/plain": [
       "0"
      ]
     },
     "execution_count": 7,
     "metadata": {},
     "output_type": "execute_result"
    }
   ],
   "source": [
    "#Se eliminan los datos duplicados\n",
    "instacart_orders=instacart_orders.drop_duplicates()\n",
    "\n",
    "#se verifica que los duplicados hayan quedado eliminados\n",
    "instacart_orders.duplicated().sum()\n"
   ]
  },
  {
   "cell_type": "code",
   "execution_count": 8,
   "metadata": {
    "id": "f6113ef1"
   },
   "outputs": [
    {
     "data": {
      "text/plain": [
       "0"
      ]
     },
     "execution_count": 8,
     "metadata": {},
     "output_type": "execute_result"
    }
   ],
   "source": [
    "# Vuelve a verificar si hay IDs duplicados de pedidos\n",
    "instacart_orders['order_id'].duplicated().sum()"
   ]
  },
  {
   "cell_type": "markdown",
   "metadata": {
    "id": "5e8905ae"
   },
   "source": [
    "\n",
    "Habían 15 pedidos que estaban duplicados, estos eran pedidos que se habian realizado el día miercoles a las 2,, se eliminaron los duplicados de los pedidos. "
   ]
  },
  {
   "cell_type": "markdown",
   "metadata": {
    "id": "45e6bc46"
   },
   "source": [
    "### `products` data frame"
   ]
  },
  {
   "cell_type": "code",
   "execution_count": 9,
   "metadata": {
    "id": "5f526b5b-8175-46fa-a0fd-441767d50e64"
   },
   "outputs": [
    {
     "data": {
      "text/plain": [
       "0"
      ]
     },
     "execution_count": 9,
     "metadata": {},
     "output_type": "execute_result"
    }
   ],
   "source": [
    "# Verifica si hay filas totalmente duplicadas\n",
    "products.duplicated().sum()\n"
   ]
  },
  {
   "cell_type": "code",
   "execution_count": 10,
   "metadata": {
    "id": "88daa4f4"
   },
   "outputs": [
    {
     "data": {
      "text/plain": [
       "0"
      ]
     },
     "execution_count": 10,
     "metadata": {},
     "output_type": "execute_result"
    }
   ],
   "source": [
    "# Verifica si hay IDs duplicadas de productos\n",
    "products['product_id'].duplicated().sum()"
   ]
  },
  {
   "cell_type": "code",
   "execution_count": 11,
   "metadata": {
    "id": "c773f0bf"
   },
   "outputs": [
    {
     "data": {
      "text/plain": [
       "1361"
      ]
     },
     "execution_count": 11,
     "metadata": {},
     "output_type": "execute_result"
    }
   ],
   "source": [
    "# Revisa si hay nombres duplicados de productos (convierte los nombres a letras mayúsculas para compararlos mejor)\n",
    "#convertir los nombres a mayusculas para comparar mejor\n",
    "products['product_name']=products['product_name'].str.upper()\n",
    "\n",
    "#revisa si hay nombres de productos duplicados\n",
    "products['product_name'].duplicated().sum()"
   ]
  },
  {
   "cell_type": "code",
   "execution_count": 12,
   "metadata": {
    "id": "01efd02e"
   },
   "outputs": [
    {
     "data": {
      "text/plain": [
       "104"
      ]
     },
     "execution_count": 12,
     "metadata": {},
     "output_type": "execute_result"
    }
   ],
   "source": [
    "# Revisa si hay nombres duplicados de productos no faltantes\n",
    "products['product_name'][products['product_name'].notna()].duplicated().sum()"
   ]
  },
  {
   "cell_type": "markdown",
   "metadata": {
    "id": "9da8d293"
   },
   "source": [
    "No hay id del producto repetido, pero si hay nombres del producto repetido, esto significa que hay varios productos que tiene dos o mas ids. \n"
   ]
  },
  {
   "cell_type": "markdown",
   "metadata": {
    "id": "60f30db1"
   },
   "source": [
    "### `departments` data frame"
   ]
  },
  {
   "cell_type": "code",
   "execution_count": 13,
   "metadata": {
    "id": "fb410ad4-0fbf-4b80-bb09-23fdea79afe3"
   },
   "outputs": [
    {
     "data": {
      "text/plain": [
       "0"
      ]
     },
     "execution_count": 13,
     "metadata": {},
     "output_type": "execute_result"
    }
   ],
   "source": [
    "# Revisar si hay filas totalmente duplicadas\n",
    "departments.duplicated().sum()"
   ]
  },
  {
   "cell_type": "code",
   "execution_count": 14,
   "metadata": {
    "id": "332b12bb"
   },
   "outputs": [
    {
     "data": {
      "text/plain": [
       "0"
      ]
     },
     "execution_count": 14,
     "metadata": {},
     "output_type": "execute_result"
    }
   ],
   "source": [
    "# Revisa si hay IDs duplicadas \n",
    "departments['department_id'].duplicated().sum()"
   ]
  },
  {
   "cell_type": "markdown",
   "metadata": {
    "id": "bd30d78e"
   },
   "source": [
    "Describe brevemente tus hallazgos y lo que hiciste con ellos.\n",
    "\n",
    "No hay ningun dato duplicado\n"
   ]
  },
  {
   "cell_type": "markdown",
   "metadata": {
    "id": "889349c1"
   },
   "source": [
    "### `aisles` data frame"
   ]
  },
  {
   "cell_type": "code",
   "execution_count": 15,
   "metadata": {
    "id": "9da89fb9-4679-40f5-ad0d-c34df753a3f8"
   },
   "outputs": [
    {
     "data": {
      "text/plain": [
       "0"
      ]
     },
     "execution_count": 15,
     "metadata": {},
     "output_type": "execute_result"
    }
   ],
   "source": [
    "# Revisar si hay filas totalmente duplicadas\n",
    "aisles.duplicated().sum()"
   ]
  },
  {
   "cell_type": "code",
   "execution_count": 16,
   "metadata": {
    "id": "da7c2822"
   },
   "outputs": [
    {
     "data": {
      "text/plain": [
       "0"
      ]
     },
     "execution_count": 16,
     "metadata": {},
     "output_type": "execute_result"
    }
   ],
   "source": [
    "# Revisa si hay IDs \n",
    "aisles['aisle_id'].duplicated().sum()"
   ]
  },
  {
   "cell_type": "markdown",
   "metadata": {
    "id": "ac63826f"
   },
   "source": [
    "Se observa que en el dataFrame de aisles no hay ningún dato duplicado"
   ]
  },
  {
   "cell_type": "markdown",
   "metadata": {
    "id": "274cd06a"
   },
   "source": [
    "### `order_products` data frame"
   ]
  },
  {
   "cell_type": "code",
   "execution_count": 17,
   "metadata": {
    "id": "52326689-84a8-4b8f-a881-7c68780f62c9"
   },
   "outputs": [
    {
     "data": {
      "text/plain": [
       "0"
      ]
     },
     "execution_count": 17,
     "metadata": {},
     "output_type": "execute_result"
    }
   ],
   "source": [
    "# Revisar si hay filas totalmente duplicadas\n",
    "order_products.duplicated().sum()"
   ]
  },
  {
   "cell_type": "code",
   "execution_count": 18,
   "metadata": {
    "id": "7b861391"
   },
   "outputs": [
    {
     "name": "stdout",
     "output_type": "stream",
     "text": [
      "4094961\n",
      "450046\n"
     ]
    }
   ],
   "source": [
    "# Vuelve a verificar si hay cualquier otro duplicado engañoso\n",
    "print(order_products['order_id'].duplicated().sum())\n",
    "print(order_products['order_id'].nunique())"
   ]
  },
  {
   "cell_type": "markdown",
   "metadata": {
    "id": "0b890492"
   },
   "source": [
    "Se observo que hay 550.046 ordenes únicas, lo que quiere decir que en estos pedidos solamente compraron un producto y hay 4094961 ordenes duplicadas, las cuales hicieron un pedido de dos o más productos."
   ]
  },
  {
   "cell_type": "markdown",
   "metadata": {
    "id": "1e46de76"
   },
   "source": [
    "## Encuentra y elimina los valores ausentes\n",
    "\n",
    "Al trabajar con valores duplicados, pudimos observar que también nos falta investigar valores ausentes:\n",
    "\n",
    "* La columna `'product_name'` de la tabla products.\n",
    "* La columna `'days_since_prior_order'` de la tabla orders.\n",
    "* La columna `'add_to_cart_order'` de la tabla order_productos."
   ]
  },
  {
   "cell_type": "markdown",
   "metadata": {
    "id": "c0aebd78"
   },
   "source": [
    "### `products` data frame"
   ]
  },
  {
   "cell_type": "code",
   "execution_count": 19,
   "metadata": {
    "id": "fe4a8b0f"
   },
   "outputs": [
    {
     "name": "stdout",
     "output_type": "stream",
     "text": [
      "100    1258\n",
      "Name: aisle_id, dtype: int64\n",
      "21    1258\n",
      "Name: department_id, dtype: int64\n"
     ]
    }
   ],
   "source": [
    "# Encuentra los valores ausentes en la columna 'product_name'\n",
    "#Hacemos un filtro poniendo solo las filas en las que no hay product_name\n",
    "no_product_name=products[products['product_name'].isna()]\n",
    "\n",
    "#Obtener cuales son los aisle_id y department_id en los que los productos no tienen nombre y la cantidad para cada uno\n",
    "print(no_product_name['aisle_id'].value_counts())\n",
    "print (no_product_name['department_id'].value_counts())"
   ]
  },
  {
   "cell_type": "markdown",
   "metadata": {
    "id": "-A6x1AbJhjkp"
   },
   "source": [
    "\n",
    "Todos los productos (1258) que no tienen product_name son del aisle 100 y departamento 21"
   ]
  },
  {
   "cell_type": "code",
   "execution_count": 20,
   "metadata": {
    "id": "325c3464"
   },
   "outputs": [
    {
     "name": "stdout",
     "output_type": "stream",
     "text": [
      "aisle of missing products 99    missing\n",
      "Name: aisle, dtype: object\n",
      "department of missing product 20    missing\n",
      "Name: department, dtype: object\n"
     ]
    }
   ],
   "source": [
    "# Usa las tablas department y aisle para revisar los datos del pasillo con ID 100 y el departamento con ID 21.\n",
    "print ('aisle of missing products',aisles.query(\"aisle_id==100\")['aisle'])\n",
    "\n",
    "print('department of missing product',departments.query(\"department_id==21\")['department'])"
   ]
  },
  {
   "cell_type": "markdown",
   "metadata": {
    "id": "nqhSTUPhhvEJ"
   },
   "source": [
    "\n",
    "De lo anterior se puede ver que tanto el nombre del 'aisle' y del 'department' son 'missing' lo que significa que no hay información de estos productos."
   ]
  },
  {
   "cell_type": "code",
   "execution_count": 21,
   "metadata": {
    "id": "6b295120"
   },
   "outputs": [],
   "source": [
    "# Completa los nombres de productos ausentes con 'Unknown'\n",
    "    \n",
    "products['product_name'].fillna('unknown', inplace=True)"
   ]
  },
  {
   "cell_type": "code",
   "execution_count": 22,
   "metadata": {},
   "outputs": [
    {
     "name": "stdout",
     "output_type": "stream",
     "text": [
      "<class 'pandas.core.frame.DataFrame'>\n",
      "RangeIndex: 49694 entries, 0 to 49693\n",
      "Data columns (total 4 columns):\n",
      " #   Column         Non-Null Count  Dtype \n",
      "---  ------         --------------  ----- \n",
      " 0   product_id     49694 non-null  int64 \n",
      " 1   product_name   49694 non-null  object\n",
      " 2   aisle_id       49694 non-null  int64 \n",
      " 3   department_id  49694 non-null  int64 \n",
      "dtypes: int64(3), object(1)\n",
      "memory usage: 1.5+ MB\n"
     ]
    }
   ],
   "source": [
    "#Verifico que no hayan valores ausentes\n",
    "products.info()"
   ]
  },
  {
   "cell_type": "markdown",
   "metadata": {
    "id": "fc70e5ad"
   },
   "source": [
    "Debido a que no hay información del departamento como del aisle de estos productos se remplaza los datos faltantes por 'unknown'. "
   ]
  },
  {
   "cell_type": "markdown",
   "metadata": {
    "id": "7eb45c86"
   },
   "source": [
    "### `orders` data frame"
   ]
  },
  {
   "cell_type": "code",
   "execution_count": 23,
   "metadata": {
    "id": "93e41d96"
   },
   "outputs": [
    {
     "name": "stdout",
     "output_type": "stream",
     "text": [
      "        order_id  user_id  order_number  order_dow  order_hour_of_day  \\\n",
      "28        133707   182261             1          3                 10   \n",
      "96        787445    25685             1          6                 18   \n",
      "100       294410   111449             1          0                 19   \n",
      "103      2869915   123958             1          4                 16   \n",
      "104      2521921    42286             1          3                 18   \n",
      "...          ...      ...           ...        ...                ...   \n",
      "478895   2589657   205028             1          0                 16   \n",
      "478896   2222353   141211             1          2                 13   \n",
      "478922   2272807   204154             1          1                 15   \n",
      "478926   2499542    68810             1          4                 19   \n",
      "478945   1387033    22496             1          5                 14   \n",
      "\n",
      "        days_since_prior_order  \n",
      "28                         NaN  \n",
      "96                         NaN  \n",
      "100                        NaN  \n",
      "103                        NaN  \n",
      "104                        NaN  \n",
      "...                        ...  \n",
      "478895                     NaN  \n",
      "478896                     NaN  \n",
      "478922                     NaN  \n",
      "478926                     NaN  \n",
      "478945                     NaN  \n",
      "\n",
      "[28817 rows x 6 columns]\n"
     ]
    }
   ],
   "source": [
    "# Encuentrar los valores ausentes days_since_prior_order\n",
    "#creo un filtro de los valores ausentes que hay\n",
    "nan_values=instacart_orders[instacart_orders['days_since_prior_order'].isna()]\n",
    "\n",
    "print(nan_values)"
   ]
  },
  {
   "cell_type": "markdown",
   "metadata": {},
   "source": [
    "De lo anterior parece que todos los valores ausentes son del primer pedido del cliente\n",
    "Para verificar esto obtenemos cual es el valor de 'order number' y cuantos son."
   ]
  },
  {
   "cell_type": "code",
   "execution_count": 24,
   "metadata": {
    "id": "166e5a86"
   },
   "outputs": [
    {
     "name": "stdout",
     "output_type": "stream",
     "text": [
      "1    28817\n",
      "Name: order_number, dtype: int64\n"
     ]
    }
   ],
   "source": [
    "# ¿Hay algún valor ausente que no sea el primer pedido del cliente?\n",
    "print(nan_values['order_number'].value_counts())"
   ]
  },
  {
   "cell_type": "code",
   "execution_count": 25,
   "metadata": {},
   "outputs": [],
   "source": [
    "#remplazar los valores ausente por 0\n",
    "instacart_orders['days_since_prior_order'].fillna(0, inplace=True)"
   ]
  },
  {
   "cell_type": "code",
   "execution_count": 26,
   "metadata": {},
   "outputs": [
    {
     "name": "stdout",
     "output_type": "stream",
     "text": [
      "<class 'pandas.core.frame.DataFrame'>\n",
      "Int64Index: 478952 entries, 0 to 478966\n",
      "Data columns (total 6 columns):\n",
      " #   Column                  Non-Null Count   Dtype  \n",
      "---  ------                  --------------   -----  \n",
      " 0   order_id                478952 non-null  int64  \n",
      " 1   user_id                 478952 non-null  int64  \n",
      " 2   order_number            478952 non-null  int64  \n",
      " 3   order_dow               478952 non-null  int64  \n",
      " 4   order_hour_of_day       478952 non-null  int64  \n",
      " 5   days_since_prior_order  478952 non-null  float64\n",
      "dtypes: float64(1), int64(5)\n",
      "memory usage: 25.6 MB\n"
     ]
    }
   ],
   "source": [
    "#verificamos que no hayan valores ausentes\n",
    "instacart_orders.info()"
   ]
  },
  {
   "cell_type": "markdown",
   "metadata": {
    "id": "4e23d089"
   },
   "source": [
    "\n",
    "'days_since_prior_order' que esta ausente, es debido a que esta es la primera orden, por eso se reemplaza todos los valores ausentes por 0."
   ]
  },
  {
   "cell_type": "markdown",
   "metadata": {
    "id": "69dc9ca4"
   },
   "source": [
    "### `order_products` data frame"
   ]
  },
  {
   "cell_type": "code",
   "execution_count": 27,
   "metadata": {
    "id": "b8240253"
   },
   "outputs": [
    {
     "name": "stdout",
     "output_type": "stream",
     "text": [
      "         order_id  product_id  add_to_cart_order  reordered\n",
      "737       2449164        5068                NaN          0\n",
      "9926      1968313       43867                NaN          0\n",
      "14394     2926893       11688                NaN          0\n",
      "16418     1717990        4142                NaN          0\n",
      "30114     1959075       42828                NaN          1\n",
      "...           ...         ...                ...        ...\n",
      "4505662   1800005        7411                NaN          0\n",
      "4511400   1633337         260                NaN          0\n",
      "4517562    404157        9517                NaN          0\n",
      "4534112   1673227       17835                NaN          0\n",
      "4535739   1832957       17949                NaN          1\n",
      "\n",
      "[836 rows x 4 columns]\n"
     ]
    }
   ],
   "source": [
    "# Encuentra los valores ausentes    'add_to_cart_order' de la tabla order_productos.\n",
    "\n",
    "#Hacemos un filtro poniendo solo las filas en las que no hay add_to_cart_order\n",
    "nan_add_to_cart_order=order_products[order_products['add_to_cart_order'].isna()]\n",
    "print(nan_add_to_cart_order)"
   ]
  },
  {
   "cell_type": "code",
   "execution_count": 28,
   "metadata": {
    "id": "9a78e5ee"
   },
   "outputs": [
    {
     "name": "stdout",
     "output_type": "stream",
     "text": [
      "Número mínimo de la columna add_to_cart_order es: 1.0\n",
      "Número máximo de la columna add_to_cart_order es: 64.0\n"
     ]
    }
   ],
   "source": [
    "# ¿Cuáles son los valores mínimos y máximos en esta columna?\n",
    "print('Número mínimo de la columna add_to_cart_order es:', order_products['add_to_cart_order'].min())\n",
    "print('Número máximo de la columna add_to_cart_order es:',order_products['add_to_cart_order'].max())\n"
   ]
  },
  {
   "cell_type": "code",
   "execution_count": 29,
   "metadata": {
    "id": "ab9d0c2b"
   },
   "outputs": [
    {
     "name": "stdout",
     "output_type": "stream",
     "text": [
      "737        2449164\n",
      "9926       1968313\n",
      "14394      2926893\n",
      "16418      1717990\n",
      "30114      1959075\n",
      "            ...   \n",
      "2437093       9310\n",
      "2438301    2170451\n",
      "3275635    2979697\n",
      "3282194    1625713\n",
      "3357079    1529171\n",
      "Name: order_id, Length: 70, dtype: int64\n"
     ]
    }
   ],
   "source": [
    "# Guarda todas las IDs de pedidos que tengan un valor ausente en 'add_to_cart_order'\n",
    "id_order=nan_add_to_cart_order['order_id']\n",
    "id_order=id_order.drop_duplicates()\n",
    "print(id_order)"
   ]
  },
  {
   "cell_type": "code",
   "execution_count": 30,
   "metadata": {
    "id": "54c31695"
   },
   "outputs": [
    {
     "name": "stdout",
     "output_type": "stream",
     "text": [
      "    order_id  count\n",
      "0       9310     65\n",
      "1      61355    127\n",
      "2     102236     95\n",
      "3     129627     69\n",
      "4     165801     70\n",
      "..       ...    ...\n",
      "65   2999801     70\n",
      "66   3125735     86\n",
      "67   3308010    115\n",
      "68   3347453     71\n",
      "69   3383594     69\n",
      "\n",
      "[70 rows x 2 columns]\n",
      "el valor minimo de id_product es: 65\n"
     ]
    }
   ],
   "source": [
    "# ¿Todos los pedidos con valores ausentes tienen más de 64 productos?\n",
    "# Agrupa todos los pedidos con datos ausentes por su ID de pedido y se cuenta cuantos productos tiene cada uno\n",
    "df1 = order_products.query('order_id in @id_order').groupby(['order_id']).size().reset_index(name='count')\n",
    "print(df1)\n",
    "\n",
    "# revisar cual es el valor mínimo de productos por orden que tienen add_to_cart ausente\n",
    "\n",
    "print('el valor minimo de id_product es:',df1['count'].min())"
   ]
  },
  {
   "cell_type": "markdown",
   "metadata": {
    "id": "p9V6pddtjglj"
   },
   "source": [
    "\n",
    "\n",
    "Todos los valores de add_to_cart que están ausentes forman parte de un pedido que tiene más de 64 productos."
   ]
  },
  {
   "cell_type": "code",
   "execution_count": 31,
   "metadata": {
    "id": "7a987d08"
   },
   "outputs": [],
   "source": [
    "# Remplaza los valores ausentes en la columna 'add_to_cart? con 999\n",
    "order_products['add_to_cart_order'].fillna(999, inplace=True)\n",
    "\n",
    "# convierte la columna al tipo entero.\n",
    "order_products['add_to_cart_order']=order_products['add_to_cart_order'].astype('int')"
   ]
  },
  {
   "cell_type": "code",
   "execution_count": 32,
   "metadata": {},
   "outputs": [
    {
     "name": "stdout",
     "output_type": "stream",
     "text": [
      "<class 'pandas.core.frame.DataFrame'>\n",
      "RangeIndex: 4545007 entries, 0 to 4545006\n",
      "Data columns (total 4 columns):\n",
      " #   Column             Non-Null Count    Dtype\n",
      "---  ------             --------------    -----\n",
      " 0   order_id           4545007 non-null  int64\n",
      " 1   product_id         4545007 non-null  int64\n",
      " 2   add_to_cart_order  4545007 non-null  int64\n",
      " 3   reordered          4545007 non-null  int64\n",
      "dtypes: int64(4)\n",
      "memory usage: 138.7 MB\n"
     ]
    }
   ],
   "source": [
    "order_products.info(show_counts=True )"
   ]
  },
  {
   "cell_type": "markdown",
   "metadata": {
    "id": "fea4bcc7"
   },
   "source": [
    "\n",
    "Los valores ausentes de 'add_to_cart_order' formaban parte de pedidos que tenían más de 64 productos por lo que se cambio los valores ausentes a 999.\n",
    "El 'add_to_cart_order' era de tipo float, pero no contiene ningún decimal por lo tanto se convirtio a int\n"
   ]
  },
  {
   "cell_type": "markdown",
   "metadata": {},
   "source": [
    "Una opción de porque el máximo de add_to_cart_order es 64 puede ser porque los clientes solo pueden adicionar al carro un máximo de 64 productos. También puede ser que el sistema que registra el orden en que se adicionaron los productos al carro tenga un error y no registre el add_to_cart_order después de esta cantidad.    \n",
    "    \n"
   ]
  },
  {
   "cell_type": "markdown",
   "metadata": {
    "id": "RnplPFY1gSrb"
   },
   "source": [
    "## Conclusiones\n",
    "\n",
    "Escribe aquí tus conclusiones intermedias sobre el Paso 2. Preprocesamiento de los datos\n",
    "\n",
    "Para cada DataFrame primero se miro si habían filas que estaban totalmente duplicadas, en los casos en que etso sucedio se eliminaron estas duplicadas. Para el caso del archivo de product habían casos donde el un producto tenía dos id_products diferentes. Luego se buscaron los datos ausentes y se análizo para poder remplazarlos."
   ]
  },
  {
   "cell_type": "markdown",
   "metadata": {
    "id": "UjrOIwTcz3ri"
   },
   "source": [
    "# Paso 3. Análisis de los datos\n",
    "\n",
    "Una vez los datos estén procesados y listos, haz el siguiente análisis:"
   ]
  },
  {
   "cell_type": "markdown",
   "metadata": {
    "id": "turkish-kidney"
   },
   "source": [
    "# [A] Fácil (deben completarse todos para aprobar)\n",
    "\n",
    "1. Verifica que los valores en las columnas `'order_hour_of_day'` y `'order_dow'` en la tabla orders sean razonables (es decir, `'order_hour_of_day'` oscile entre 0 y 23 y `'order_dow'` oscile entre 0 y 6).\n",
    "2. Crea un gráfico que muestre el número de personas que hacen pedidos dependiendo de la hora del día.\n",
    "3. Crea un gráfico que muestre qué día de la semana la gente hace sus compras.\n",
    "4. Crea un gráfico que muestre el tiempo que la gente espera hasta hacer su siguiente pedido, y comenta sobre los valores mínimos y máximos."
   ]
  },
  {
   "cell_type": "markdown",
   "metadata": {
    "id": "short-capability"
   },
   "source": [
    "### [A1] Verifica que los valores sean sensibles"
   ]
  },
  {
   "cell_type": "code",
   "execution_count": 33,
   "metadata": {
    "id": "growing-fruit"
   },
   "outputs": [
    {
     "name": "stdout",
     "output_type": "stream",
     "text": [
      "valor mínimo de order_hour_of_day 0\n",
      "valor máximo de order_hour_of_day 23\n"
     ]
    }
   ],
   "source": [
    "#obtener el valor mínimo y máximo para saber cual es el rango \n",
    "print('valor mínimo de order_hour_of_day',instacart_orders['order_hour_of_day'].min())\n",
    "print('valor máximo de order_hour_of_day',instacart_orders['order_hour_of_day'].max())"
   ]
  },
  {
   "cell_type": "code",
   "execution_count": 34,
   "metadata": {
    "id": "accessory-malaysia"
   },
   "outputs": [
    {
     "name": "stdout",
     "output_type": "stream",
     "text": [
      "valor mínimo de order_dow 0\n",
      "valor máximo de order_dow 6\n"
     ]
    }
   ],
   "source": [
    "#obtener el valor mínimo y máximo para saber cual es el rango \n",
    "print('valor mínimo de order_dow',instacart_orders['order_dow'].min())\n",
    "print('valor máximo de order_dow',instacart_orders['order_dow'].max())"
   ]
  },
  {
   "cell_type": "code",
   "execution_count": 35,
   "metadata": {},
   "outputs": [
    {
     "name": "stdout",
     "output_type": "stream",
     "text": [
      "[13 12 19 20 11  8 18 15 16  9 22 10  0 14 17  1  7  6  2 21  3 23  5  4]\n"
     ]
    }
   ],
   "source": [
    "#mirar los valores únicos de 'order_hour_of_day' para ver si los valores son correctos\n",
    "print (instacart_orders['order_hour_of_day'].unique())\n"
   ]
  },
  {
   "cell_type": "code",
   "execution_count": 36,
   "metadata": {},
   "outputs": [
    {
     "name": "stdout",
     "output_type": "stream",
     "text": [
      "[6 5 0 4 3 1 2]\n"
     ]
    }
   ],
   "source": [
    "#se miran los valores únicos de order_dow\n",
    "print (instacart_orders['order_dow'].unique())"
   ]
  },
  {
   "cell_type": "markdown",
   "metadata": {
    "id": "hmR2GNQ6lCsX"
   },
   "source": [
    "Escribe aquí tus conclusiones\n",
    "\n",
    "Con los valores mínimos y máximos de las dos columnas se pudo comprobar que 'order_hour_of_day' oscila entre 0 y 23 y 'order_dow' oscila entre 0 y 6).\n"
   ]
  },
  {
   "cell_type": "markdown",
   "metadata": {
    "id": "a6743a70"
   },
   "source": [
    "### [A2] Para cada hora del día, ¿cuántas personas hacen órdenes?"
   ]
  },
  {
   "cell_type": "code",
   "execution_count": 37,
   "metadata": {},
   "outputs": [
    {
     "data": {
      "image/png": "[encoded data removed]",
      "text/plain": [
       "<Figure size 640x480 with 1 Axes>"
      ]
     },
     "metadata": {},
     "output_type": "display_data"
    }
   ],
   "source": [
    "#Se crea un grafico de barras para poder ver la cantidad de personas que compran en los rango de horas.\n",
    "y = instacart_orders['order_hour_of_day']\n",
    "y.value_counts().sort_index().plot.bar(title='Número de personas que hacen ordenes por rango horario',xlabel='Hora', ylabel='Numero de clientes')\n",
    "plt.show()"
   ]
  },
  {
   "cell_type": "markdown",
   "metadata": {
    "id": "11270eed"
   },
   "source": [
    "Para este caso se hizo un gráfico de barras. En el gráfico se puede ver que las horas en que menos hacen compras es en la madrugada, entre 0 horas y 8 de la mañana aproximadamente. En las horas en que más se realizan compras es entre las 10 de la mañana y las 18, luego después de las 20 horas se baja la cantidad de personas que compran."
   ]
  },
  {
   "cell_type": "markdown",
   "metadata": {
    "id": "documented-command"
   },
   "source": [
    "### [A3] ¿Qué día de la semana compran víveres las personas?"
   ]
  },
  {
   "cell_type": "code",
   "execution_count": 38,
   "metadata": {},
   "outputs": [
    {
     "data": {
      "image/png": "[encoded data removed]",
      "text/plain": [
       "<Figure size 640x480 with 1 Axes>"
      ]
     },
     "metadata": {},
     "output_type": "display_data"
    }
   ],
   "source": [
    "y = instacart_orders['order_dow']\n",
    "y.value_counts().sort_index().plot.bar(title='Número de personas que hacen ordenes en la semana',xlabel='Día de la semana', ylabel='Número de clientes')\n",
    "plt.show()"
   ]
  },
  {
   "cell_type": "markdown",
   "metadata": {
    "id": "dominant-lightning"
   },
   "source": [
    "\n",
    "Del gráfico se puede ver que los días en que más compran son domingo y lunes, iercoles y jueves son los días en que menos compras se hacen. Por lo que se puede decir que los clientes prefieren hacer sus compras a principio de la semana. Entre los martes y sábados la gente compra menos, y no es casi la misma cantidad de personas que compran en estos días."
   ]
  },
  {
   "cell_type": "markdown",
   "metadata": {
    "id": "cutting-concert"
   },
   "source": [
    "### [A4] ¿Cuánto tiempo esperan las personas hasta hacer otro pedido? Comenta sobre los valores mínimos y máximos."
   ]
  },
  {
   "cell_type": "code",
   "execution_count": 39,
   "metadata": {},
   "outputs": [
    {
     "data": {
      "image/png": "[encoded data removed]",
      "text/plain": [
       "<Figure size 640x480 with 1 Axes>"
      ]
     },
     "metadata": {},
     "output_type": "display_data"
    }
   ],
   "source": [
    "#Crea un gráfico que muestre el tiempo que la gente espera hasta hacer su siguiente pedido\n",
    "\n",
    "y = instacart_orders['days_since_prior_order']\n",
    "y.value_counts().sort_index().plot.bar(title='Tiempo de espera para hacer un pedido',xlabel='Días sin hacer pedidos', ylabel='Número de clientes')\n",
    "plt.show()"
   ]
  },
  {
   "cell_type": "markdown",
   "metadata": {
    "id": "discrete-vertex"
   },
   "source": [
    "Escribe aquí tus conclusiones\n",
    "\n",
    "El tiempo que más espera la gente para hacer otro pedido es de 30 días. También hay una gran cantidad de personas que hacen el siguiente pedido entre 0 y 8 días. Hay muy pocas personas que hacer otro pedido 10 o 29 días después de hacer su último pedido. "
   ]
  },
  {
   "cell_type": "markdown",
   "metadata": {
    "id": "tight-staff"
   },
   "source": [
    "# [B] Intermedio (deben completarse todos para aprobar)\n",
    "\n",
    "1. ¿Existe alguna diferencia entre las distribuciones `'order_hour_of_day'` de los miércoles y los sábados? Traza gráficos de barra de `'order_hour_of_day'` para ambos días en la misma figura y describe las diferencias que observes.\n",
    "2. Grafica la distribución para el número de órdenes que hacen los clientes (es decir, cuántos clientes hicieron solo 1 pedido, cuántos hicieron 2, cuántos 3, y así sucesivamente...).\n",
    "3. ¿Cuáles son los 20 principales productos que se piden con más frecuencia (muestra su identificación y nombre)?"
   ]
  },
  {
   "cell_type": "markdown",
   "metadata": {
    "id": "packed-classic"
   },
   "source": [
    "### [B1] Diferencia entre miércoles y sábados para  `'order_hour_of_day'`. Traza gráficos de barra para los dos días y describe las diferencias que veas."
   ]
  },
  {
   "cell_type": "code",
   "execution_count": 40,
   "metadata": {},
   "outputs": [],
   "source": [
    "#obtener solo los datos de Wednesday\n",
    "wednesday_orders = instacart_orders[['order_hour_of_day', 'order_dow']][(instacart_orders['order_dow'] == 3)]\n",
    "\n",
    "#Obtengo solo los datos de Saturday\n",
    "saturday_orders= instacart_orders[['order_hour_of_day', 'order_dow']][(instacart_orders['order_dow'] == 6)]"
   ]
  },
  {
   "cell_type": "code",
   "execution_count": 41,
   "metadata": {},
   "outputs": [],
   "source": [
    "# obtengo la lista con los valores de las horas \n",
    "hours=instacart_orders['order_hour_of_day'].drop_duplicates().sort_values().reset_index()\n",
    "hours=hours.drop('index',axis=1)\n",
    "\n",
    "#se calcula la frecuencia de compras por hora para los días miércoles y sábado\n",
    "freq1 = wednesday_orders[\"order_hour_of_day\"].value_counts().sort_index()\n",
    "freq2= saturday_orders[\"order_hour_of_day\"].value_counts().sort_index()"
   ]
  },
  {
   "cell_type": "code",
   "execution_count": 42,
   "metadata": {},
   "outputs": [
    {
     "data": {
      "text/html": [
       "<div>\n",
       "<style scoped>\n",
       "    .dataframe tbody tr th:only-of-type {\n",
       "        vertical-align: middle;\n",
       "    }\n",
       "\n",
       "    .dataframe tbody tr th {\n",
       "        vertical-align: top;\n",
       "    }\n",
       "\n",
       "    .dataframe thead th {\n",
       "        text-align: right;\n",
       "    }\n",
       "</style>\n",
       "<table border=\"1\" class=\"dataframe\">\n",
       "  <thead>\n",
       "    <tr style=\"text-align: right;\">\n",
       "      <th></th>\n",
       "      <th>hours</th>\n",
       "      <th>wednesday_fre</th>\n",
       "      <th>saturday_freq</th>\n",
       "    </tr>\n",
       "  </thead>\n",
       "  <tbody>\n",
       "    <tr>\n",
       "      <th>0</th>\n",
       "      <td>0</td>\n",
       "      <td>373</td>\n",
       "      <td>464</td>\n",
       "    </tr>\n",
       "    <tr>\n",
       "      <th>1</th>\n",
       "      <td>1</td>\n",
       "      <td>215</td>\n",
       "      <td>254</td>\n",
       "    </tr>\n",
       "    <tr>\n",
       "      <th>2</th>\n",
       "      <td>2</td>\n",
       "      <td>106</td>\n",
       "      <td>177</td>\n",
       "    </tr>\n",
       "    <tr>\n",
       "      <th>3</th>\n",
       "      <td>3</td>\n",
       "      <td>101</td>\n",
       "      <td>125</td>\n",
       "    </tr>\n",
       "    <tr>\n",
       "      <th>4</th>\n",
       "      <td>4</td>\n",
       "      <td>108</td>\n",
       "      <td>118</td>\n",
       "    </tr>\n",
       "  </tbody>\n",
       "</table>\n",
       "</div>"
      ],
      "text/plain": [
       "   hours  wednesday_fre  saturday_freq\n",
       "0      0            373            464\n",
       "1      1            215            254\n",
       "2      2            106            177\n",
       "3      3            101            125\n",
       "4      4            108            118"
      ]
     },
     "execution_count": 42,
     "metadata": {},
     "output_type": "execute_result"
    }
   ],
   "source": [
    "#Hago un nuevo dataframe con los datos de las horas, la frecuencia para cada hora para el miércoles y sábado\n",
    "fre_wed_sat=pd.concat([hours,freq1,freq2], axis='columns')\n",
    "fre_wed_sat.columns=['hours','wednesday_fre','saturday_freq']\n",
    "fre_wed_sat.head()"
   ]
  },
  {
   "cell_type": "code",
   "execution_count": 43,
   "metadata": {},
   "outputs": [
    {
     "data": {
      "image/png": "[encoded data removed]",
      "text/plain": [
       "<Figure size 640x480 with 1 Axes>"
      ]
     },
     "metadata": {},
     "output_type": "display_data"
    }
   ],
   "source": [
    "#Se hace el grafico de barras para los dos días\n",
    "fre_wed_sat.plot(x='hours',kind='bar',title='Distribución de número de compras por horas los miércoles y los sábados', xlabel='Horas', ylabel='frecuencia')\n",
    "plt.legend(['Wednesday','Saturday'])\n",
    "plt.show()"
   ]
  },
  {
   "cell_type": "markdown",
   "metadata": {
    "id": "charitable-congo"
   },
   "source": [
    "Comparando la cantidad de compras los día miércoles y sábados, se observa que en ambos días en las horas que hay menos compras son en la madrugada, entre las 0 y las 7 y en la noche entre las 19 y las 23, entre las 8 y las 17 hay un aumento grande comparado con las horas mencionadas anteriormente. También se ve que los sábados en general hay mayor cantidad de compras. Los sábados las horas en que más compran entre 13 y 14 horas, mientras que los miercoles compran más entre a las 15 horas."
   ]
  },
  {
   "cell_type": "markdown",
   "metadata": {
    "id": "e3891143"
   },
   "source": [
    "### [B2] ¿Cuál es la distribución para el número de pedidos por cliente?"
   ]
  },
  {
   "cell_type": "code",
   "execution_count": 44,
   "metadata": {
    "id": "00e69a66"
   },
   "outputs": [
    {
     "name": "stdout",
     "output_type": "stream",
     "text": [
      "         order_number\n",
      "user_id              \n",
      "2                   4\n",
      "4                   6\n",
      "5                   4\n",
      "6                   4\n",
      "7                  19\n",
      "...               ...\n",
      "206203              2\n",
      "206206             66\n",
      "206207             14\n",
      "206208             34\n",
      "206209             13\n",
      "\n",
      "[157437 rows x 1 columns]\n"
     ]
    }
   ],
   "source": [
    "#Se hace una tabla dinámica para obtener el número de ordenes que ha hecho cada usuario\n",
    "#Para obtener el número de ordenes de cada usuario se busca el máximo de 'order_number'\n",
    "pivot_data = instacart_orders.pivot_table(index='user_id',\n",
    "                           \n",
    "                            values='order_number',\n",
    "                            aggfunc='max'\n",
    "                           )\n",
    "print(pivot_data)"
   ]
  },
  {
   "cell_type": "code",
   "execution_count": 45,
   "metadata": {},
   "outputs": [
    {
     "data": {
      "image/png": "[encoded data removed]",
      "text/plain": [
       "<Figure size 640x480 with 1 Axes>"
      ]
     },
     "metadata": {},
     "output_type": "display_data"
    }
   ],
   "source": [
    "#Se realiza un histograma para ver la distribución de número de pedidos de los clientes\n",
    "pivot_data.plot(kind='hist',title='Distribución de número de pedidos de los clientes',legend=False)\n",
    "plt.xlabel(\"Cantidad de pedidos realizados\") \n",
    "plt.ylabel(\"Número de clientes\") \n",
    "plt.show()"
   ]
  },
  {
   "cell_type": "markdown",
   "metadata": {
    "id": "d2eff7d5"
   },
   "source": [
    "Escribe aquí tus conclusiones\n",
    "\n",
    "La mayoria de clientes hacen entre 1 y 10 pedidos, tambien hay una cantidad representativa de clientes que hacen entre 10 y 20 pedidos. Un porcentaje muy bajo de clientes han hecho más de 30 pedidos."
   ]
  },
  {
   "cell_type": "markdown",
   "metadata": {
    "id": "54a0319c"
   },
   "source": [
    "### [B3] ¿Cuáles son los 20 productos más populares (muestra su ID y nombre)?"
   ]
  },
  {
   "cell_type": "code",
   "execution_count": 46,
   "metadata": {
    "id": "exterior-arizona",
    "scrolled": false
   },
   "outputs": [
    {
     "name": "stdout",
     "output_type": "stream",
     "text": [
      "    product_id  sale_quantity              product_name  aisle_id  \\\n",
      "0        24852          66050                    BANANA        24   \n",
      "1        13176          53297    BAG OF ORGANIC BANANAS        24   \n",
      "2        21137          37039      ORGANIC STRAWBERRIES        24   \n",
      "3        21903          33971      ORGANIC BABY SPINACH       123   \n",
      "4        47209          29773      ORGANIC HASS AVOCADO        24   \n",
      "5        47766          24689           ORGANIC AVOCADO        24   \n",
      "6        47626          21495               LARGE LEMON        24   \n",
      "7        16797          20018              STRAWBERRIES        24   \n",
      "8        26209          19690                     LIMES        24   \n",
      "9        27845          19600        ORGANIC WHOLE MILK        84   \n",
      "10       27966          19197       ORGANIC RASPBERRIES       123   \n",
      "11       22935          15898      ORGANIC YELLOW ONION        83   \n",
      "12       24964          15292            ORGANIC GARLIC        83   \n",
      "13       45007          14584          ORGANIC ZUCCHINI        83   \n",
      "14       39275          13879       ORGANIC BLUEBERRIES       123   \n",
      "15       49683          13675            CUCUMBER KIRBY        83   \n",
      "16       28204          12544        ORGANIC FUJI APPLE        24   \n",
      "17        5876          12232             ORGANIC LEMON        24   \n",
      "18        8277          11993  APPLE HONEYCRISP ORGANIC        24   \n",
      "19       40706          11781    ORGANIC GRAPE TOMATOES       123   \n",
      "\n",
      "    department_id  \n",
      "0               4  \n",
      "1               4  \n",
      "2               4  \n",
      "3               4  \n",
      "4               4  \n",
      "5               4  \n",
      "6               4  \n",
      "7               4  \n",
      "8               4  \n",
      "9              16  \n",
      "10              4  \n",
      "11              4  \n",
      "12              4  \n",
      "13              4  \n",
      "14              4  \n",
      "15              4  \n",
      "16              4  \n",
      "17              4  \n",
      "18              4  \n",
      "19              4  \n"
     ]
    }
   ],
   "source": [
    "#Se obtiene la cantidad de veces que compraron cada producto\n",
    "freq_product=order_products['product_id'].value_counts()\n",
    "\n",
    "\n",
    "#se ponen los primero 20\n",
    "popular_product=freq_product.head(20).to_frame().reset_index()\n",
    "#Se cambian los nombres de las columnas\n",
    "popular_product.columns=['product_id','sale_quantity']\n",
    "\n",
    "#del archivo products se obtiene el nombre del producto, para esto se combinan los dataframes (unión interna)\n",
    "popular_products=popular_product.merge(products,on='product_id')\n",
    "\n",
    "print(popular_products)"
   ]
  },
  {
   "cell_type": "code",
   "execution_count": 47,
   "metadata": {},
   "outputs": [
    {
     "data": {
      "image/png": "[encoded data removed]",
      "text/plain": [
       "<Figure size 640x480 with 1 Axes>"
      ]
     },
     "metadata": {},
     "output_type": "display_data"
    }
   ],
   "source": [
    "#Se realiza un diagrama de barras para visualizar la información obtenida\n",
    "popular_products.plot(title='Top 20 de productos',x='product_name', y='sale_quantity', kind='bar',xlabel='Producto', ylabel='cantidad vendida',legend=False)\n",
    "plt.show()"
   ]
  },
  {
   "cell_type": "markdown",
   "metadata": {
    "id": "7df00f47"
   },
   "source": [
    "Todos los 20 productos más populares son frutas o verduras, excepto uno que es la leche. Muchos de estos productos son orgánicos. El producto más popular son las bananas. \n"
   ]
  },
  {
   "cell_type": "markdown",
   "metadata": {
    "id": "gross-theme"
   },
   "source": [
    "# [C] Difícil (deben completarse todos para aprobar)\n",
    "\n",
    "1. ¿Cuántos artículos suelen comprar las personas en un pedido? ¿Cómo es la distribución?\n",
    "2. ¿Cuáles son los 20 principales artículos que vuelven a pedirse con mayor frecuencia (muestra sus nombres e IDs de los productos)?\n",
    "3. Para cada producto, ¿cuál es la tasa de repetición del pedido (número de repeticiones de pedido/total de pedidos?\n",
    "4. Para cada cliente, ¿qué proporción de los productos que pidió ya los había pedido? Calcula la tasa de repetición de pedido para cada usuario en lugar de para cada producto.\n",
    "5. ¿Cuáles son los 20 principales artículos que la gente pone primero en sus carritos (muestra las IDs de los productos, sus nombres, y el número de veces en que fueron el primer artículo en añadirse al carrito)?"
   ]
  },
  {
   "cell_type": "markdown",
   "metadata": {
    "id": "romantic-deposit"
   },
   "source": [
    "### [C1] ¿Cuántos artículos compran normalmente las personas en un pedido? ¿Cómo es la distribución?"
   ]
  },
  {
   "cell_type": "code",
   "execution_count": 48,
   "metadata": {
    "id": "virtual-punch"
   },
   "outputs": [
    {
     "name": "stdout",
     "output_type": "stream",
     "text": [
      "          add_to_cart_order\n",
      "order_id                   \n",
      "4                        13\n",
      "9                        15\n",
      "11                        5\n",
      "19                        3\n",
      "20                        8\n",
      "...                     ...\n",
      "3421034                  17\n",
      "3421053                   9\n",
      "3421071                   5\n",
      "3421077                   4\n",
      "3421079                   1\n",
      "\n",
      "[450046 rows x 1 columns]\n"
     ]
    }
   ],
   "source": [
    "#Se hace una tabla dinámica para obtener cuantos artículos ha pedido una persona en una orden, se usa el archivo order_product\n",
    "#Para obtener el número de artículos en cada orden se busca el máximo de 'add_to_cart'\n",
    "pivot_add_to_cart = order_products.pivot_table(index='order_id',                           \n",
    "                            values='add_to_cart_order',\n",
    "                            aggfunc='max'\n",
    "                           )\n",
    "print(pivot_add_to_cart)\n",
    "\n"
   ]
  },
  {
   "cell_type": "code",
   "execution_count": 49,
   "metadata": {},
   "outputs": [
    {
     "data": {
      "text/plain": [
       "add_to_cart_order\n",
       "5                    31923\n",
       "6                    31698\n",
       "4                    31054\n",
       "7                    30822\n",
       "3                    29046\n",
       "                     ...  \n",
       "58                      14\n",
       "60                      13\n",
       "63                      12\n",
       "62                      11\n",
       "64                       5\n",
       "Length: 65, dtype: int64"
      ]
     },
     "execution_count": 49,
     "metadata": {},
     "output_type": "execute_result"
    }
   ],
   "source": [
    "#Se obtiene la cantidad de veces que compraron cada producto\n",
    "wsa1=pivot_add_to_cart.value_counts()\n",
    "wsa1"
   ]
  },
  {
   "cell_type": "code",
   "execution_count": 50,
   "metadata": {
    "id": "sensitive-breathing"
   },
   "outputs": [
    {
     "data": {
      "image/png": "[encoded data removed]",
      "text/plain": [
       "<Figure size 640x480 with 1 Axes>"
      ]
     },
     "metadata": {},
     "output_type": "display_data"
    }
   ],
   "source": [
    "#Se realiza un histograma para ver la distribución\n",
    "\n",
    "pivot_add_to_cart.plot(kind='hist',title='Distribución de cantidad de artículos comprados por los clientes', bins=200, legend=False)\n",
    "plt.xlabel(\"Cantidad de artículos comprados\") \n",
    "plt.ylabel(\"Número de clientes\") \n",
    "plt.xlim(xmin=0, xmax = 70)\n",
    "plt.show()\n"
   ]
  },
  {
   "cell_type": "markdown",
   "metadata": {},
   "source": [
    "\n",
    "  Conclusiones\n",
    "    \n",
    "  La mayoria de los clientes realizan pedidos donde compran 15 o menos productos, son poco los clientes que hacen compras de 20 o más productos.  \n",
    " "
   ]
  },
  {
   "cell_type": "markdown",
   "metadata": {
    "id": "5e6b5537"
   },
   "source": [
    "### [C2] ¿Cuáles son los 20 principales artículos que vuelven a pedirse con mayor frecuencia (muestra sus nombres e IDs de los productos)?"
   ]
  },
  {
   "cell_type": "code",
   "execution_count": 51,
   "metadata": {
    "id": "9374e55a"
   },
   "outputs": [
    {
     "data": {
      "text/html": [
       "<div>\n",
       "<style scoped>\n",
       "    .dataframe tbody tr th:only-of-type {\n",
       "        vertical-align: middle;\n",
       "    }\n",
       "\n",
       "    .dataframe tbody tr th {\n",
       "        vertical-align: top;\n",
       "    }\n",
       "\n",
       "    .dataframe thead th {\n",
       "        text-align: right;\n",
       "    }\n",
       "</style>\n",
       "<table border=\"1\" class=\"dataframe\">\n",
       "  <thead>\n",
       "    <tr style=\"text-align: right;\">\n",
       "      <th></th>\n",
       "      <th>order_id</th>\n",
       "      <th>product_id</th>\n",
       "      <th>add_to_cart_order</th>\n",
       "      <th>reordered</th>\n",
       "    </tr>\n",
       "  </thead>\n",
       "  <tbody>\n",
       "    <tr>\n",
       "      <th>1</th>\n",
       "      <td>567889</td>\n",
       "      <td>1560</td>\n",
       "      <td>1</td>\n",
       "      <td>1</td>\n",
       "    </tr>\n",
       "    <tr>\n",
       "      <th>2</th>\n",
       "      <td>2261212</td>\n",
       "      <td>26683</td>\n",
       "      <td>1</td>\n",
       "      <td>1</td>\n",
       "    </tr>\n",
       "    <tr>\n",
       "      <th>3</th>\n",
       "      <td>491251</td>\n",
       "      <td>8670</td>\n",
       "      <td>35</td>\n",
       "      <td>1</td>\n",
       "    </tr>\n",
       "    <tr>\n",
       "      <th>4</th>\n",
       "      <td>2571142</td>\n",
       "      <td>1940</td>\n",
       "      <td>5</td>\n",
       "      <td>1</td>\n",
       "    </tr>\n",
       "    <tr>\n",
       "      <th>5</th>\n",
       "      <td>2456893</td>\n",
       "      <td>21616</td>\n",
       "      <td>4</td>\n",
       "      <td>1</td>\n",
       "    </tr>\n",
       "    <tr>\n",
       "      <th>...</th>\n",
       "      <td>...</td>\n",
       "      <td>...</td>\n",
       "      <td>...</td>\n",
       "      <td>...</td>\n",
       "    </tr>\n",
       "    <tr>\n",
       "      <th>4544999</th>\n",
       "      <td>1622300</td>\n",
       "      <td>24852</td>\n",
       "      <td>1</td>\n",
       "      <td>1</td>\n",
       "    </tr>\n",
       "    <tr>\n",
       "      <th>4545000</th>\n",
       "      <td>1125324</td>\n",
       "      <td>40600</td>\n",
       "      <td>6</td>\n",
       "      <td>1</td>\n",
       "    </tr>\n",
       "    <tr>\n",
       "      <th>4545002</th>\n",
       "      <td>577211</td>\n",
       "      <td>15290</td>\n",
       "      <td>12</td>\n",
       "      <td>1</td>\n",
       "    </tr>\n",
       "    <tr>\n",
       "      <th>4545004</th>\n",
       "      <td>692640</td>\n",
       "      <td>47766</td>\n",
       "      <td>4</td>\n",
       "      <td>1</td>\n",
       "    </tr>\n",
       "    <tr>\n",
       "      <th>4545005</th>\n",
       "      <td>319435</td>\n",
       "      <td>691</td>\n",
       "      <td>8</td>\n",
       "      <td>1</td>\n",
       "    </tr>\n",
       "  </tbody>\n",
       "</table>\n",
       "<p>2683838 rows × 4 columns</p>\n",
       "</div>"
      ],
      "text/plain": [
       "         order_id  product_id  add_to_cart_order  reordered\n",
       "1          567889        1560                  1          1\n",
       "2         2261212       26683                  1          1\n",
       "3          491251        8670                 35          1\n",
       "4         2571142        1940                  5          1\n",
       "5         2456893       21616                  4          1\n",
       "...           ...         ...                ...        ...\n",
       "4544999   1622300       24852                  1          1\n",
       "4545000   1125324       40600                  6          1\n",
       "4545002    577211       15290                 12          1\n",
       "4545004    692640       47766                  4          1\n",
       "4545005    319435         691                  8          1\n",
       "\n",
       "[2683838 rows x 4 columns]"
      ]
     },
     "execution_count": 51,
     "metadata": {},
     "output_type": "execute_result"
    }
   ],
   "source": [
    "#filtrar el dataframe order_product por los productos que se han reordenado\n",
    "filter_reorder=order_products[order_products['reordered']==1]\n",
    "filter_reorder"
   ]
  },
  {
   "cell_type": "code",
   "execution_count": 52,
   "metadata": {
    "id": "possible-change",
    "scrolled": true
   },
   "outputs": [
    {
     "name": "stdout",
     "output_type": "stream",
     "text": [
      "24852    55763\n",
      "13176    44450\n",
      "21137    28639\n",
      "21903    26233\n",
      "47209    23629\n",
      "         ...  \n",
      "2591         1\n",
      "29201        1\n",
      "27154        1\n",
      "10789        1\n",
      "2049         1\n",
      "Name: product_id, Length: 36228, dtype: int64\n"
     ]
    }
   ],
   "source": [
    "#se cuenta cuantas veces se ha reordenado cada producto\n",
    "freq_reorder=filter_reorder['product_id'].value_counts()\n",
    "print(freq_reorder)"
   ]
  },
  {
   "cell_type": "code",
   "execution_count": 53,
   "metadata": {
    "id": "professional-surfing",
    "scrolled": false
   },
   "outputs": [
    {
     "name": "stdout",
     "output_type": "stream",
     "text": [
      "    product_id  reorder_time              product_name\n",
      "0        24852         55763                    BANANA\n",
      "1        13176         44450    BAG OF ORGANIC BANANAS\n",
      "2        21137         28639      ORGANIC STRAWBERRIES\n",
      "3        21903         26233      ORGANIC BABY SPINACH\n",
      "4        47209         23629      ORGANIC HASS AVOCADO\n",
      "5        47766         18743           ORGANIC AVOCADO\n",
      "6        27845         16251        ORGANIC WHOLE MILK\n",
      "7        47626         15044               LARGE LEMON\n",
      "8        27966         14748       ORGANIC RASPBERRIES\n",
      "9        16797         13945              STRAWBERRIES\n",
      "10       26209         13327                     LIMES\n",
      "11       22935         11145      ORGANIC YELLOW ONION\n",
      "12       24964         10411            ORGANIC GARLIC\n",
      "13       45007         10076          ORGANIC ZUCCHINI\n",
      "14       49683          9538            CUCUMBER KIRBY\n",
      "15       28204          8989        ORGANIC FUJI APPLE\n",
      "16        8277          8836  APPLE HONEYCRISP ORGANIC\n",
      "17       39275          8799       ORGANIC BLUEBERRIES\n",
      "18        5876          8412             ORGANIC LEMON\n",
      "19       49235          8389       ORGANIC HALF & HALF\n"
     ]
    }
   ],
   "source": [
    "#se ponen los primero 20\n",
    "most_reorder=freq_reorder.head(20).to_frame().reset_index()\n",
    "#Se cambian los nombres a laas columnas\n",
    "most_reorder.columns=['product_id','reorder_time']\n",
    "\n",
    "#del archivo products se obtiene el nombre del producto, para esto se combinan los dataframes (unión interna)\n",
    "final_list_reorder=most_reorder.merge(products,on='product_id').drop(['aisle_id','department_id'], axis=1)\n",
    "print (final_list_reorder)"
   ]
  },
  {
   "cell_type": "code",
   "execution_count": 54,
   "metadata": {},
   "outputs": [
    {
     "data": {
      "image/png": "[encoded data removed]",
      "text/plain": [
       "<Figure size 640x480 with 1 Axes>"
      ]
     },
     "metadata": {},
     "output_type": "display_data"
    }
   ],
   "source": [
    "#Se realiza un diagrama de barras para visualizar la información obtenida\n",
    "final_list_reorder.plot(title='Top 20 de productos que se vuelven a pedir',x='product_name', y='reorder_time', kind='bar',xlabel='Producto', ylabel='cantidad reordenada',legend=False)\n",
    "plt.show()"
   ]
  },
  {
   "cell_type": "markdown",
   "metadata": {
    "id": "80e70c74"
   },
   "source": [
    "La mayoria de los productos que se vuelven a pedir esta en la lista de los productos que mas compran las personas. Y también los productos que se encuentran en esta lista son frutas, verduras y leche. Lo que tienen en común estos productos es que las personas los consumen diariamente y son peresederos por lo que las personas los deben estar comprando más habitualmente."
   ]
  },
  {
   "cell_type": "markdown",
   "metadata": {
    "id": "9d312b14"
   },
   "source": [
    "### [C3] Para cada producto, ¿cuál es la proporción de las veces que se pide y que se vuelve a pedir?"
   ]
  },
  {
   "cell_type": "code",
   "execution_count": 55,
   "metadata": {},
   "outputs": [
    {
     "data": {
      "text/plain": [
       "product_id  product_name                                                                 \n",
       "14721       BONE STRENGTH TAKE CARE                                                          1.0\n",
       "20949       VANILLA SANDWICH COOKIES                                                         1.0\n",
       "6723        PALMIERS- PETITE                                                                 1.0\n",
       "6732        NATURALLY SPARKLING MINERAL WATER                                                1.0\n",
       "45088       CALIFORNIA DILL POLLEN & GARLIC GOAT CHEESE & OLIVE OIL INFUSION                 1.0\n",
       "                                                                                            ... \n",
       "10485       CARAMEL APPLE POP                                                                0.0\n",
       "37690       CALYPSO FRESH 2X CONCENTRATED SCENTSATIONS 166 LOADS LIQUID LAUNDRY DETERGENT    0.0\n",
       "10484       AVOCADO AND GREENS                                                               0.0\n",
       "10474       NUSTEVIA WHITE STEVIA POWDER                                                     0.0\n",
       "42984       SALSA FOR ALL SEASONS HALF GUACAMOLE HALF ROASTED SALSA                          0.0\n",
       "Name: reordered, Length: 45573, dtype: float64"
      ]
     },
     "execution_count": 55,
     "metadata": {},
     "output_type": "execute_result"
    }
   ],
   "source": [
    "#Creo un nuevo data frame usando order_product y adicionandole la columna de user_id\n",
    "order_product_name=order_products.merge(products,on='product_id')[['order_id','product_id','reordered','product_name']]\n",
    "#order_product_name\n",
    "#Agrupamos el dataframe por product_id y product_name\n",
    "grouped_product=order_product_name.groupby(['product_id','product_name'])\n",
    "\n",
    "#Para obtener la proporción calcula la media del campo reorder\n",
    "product_proportion=grouped_product['reordered'].mean()\n",
    "\n",
    "product_proportion.sort_values(ascending=False)"
   ]
  },
  {
   "cell_type": "markdown",
   "metadata": {
    "id": "I10dEIAyldcO"
   },
   "source": [
    "Para este se combinaron los archivos order_products y products para tener un nuevo dataframe con la información de las ordenes y los nombre de los productos. Luego se agrupan por productos y se saca la medio de reorder.\n",
    "Los productos que más se vuelven a pedir son bone strength take care,  vanilla sandwich cookies,sparkling water y las que la proporción de volverlas a pedir es 0 son avocado and greens, nustevia and salsa for all season."
   ]
  },
  {
   "cell_type": "markdown",
   "metadata": {
    "id": "subject-boxing"
   },
   "source": [
    "### [C4] Para cada cliente, ¿qué proporción de sus productos ya los había pedido?"
   ]
  },
  {
   "cell_type": "code",
   "execution_count": 56,
   "metadata": {
    "id": "medical-couple",
    "scrolled": true
   },
   "outputs": [
    {
     "data": {
      "text/html": [
       "<div>\n",
       "<style scoped>\n",
       "    .dataframe tbody tr th:only-of-type {\n",
       "        vertical-align: middle;\n",
       "    }\n",
       "\n",
       "    .dataframe tbody tr th {\n",
       "        vertical-align: top;\n",
       "    }\n",
       "\n",
       "    .dataframe thead th {\n",
       "        text-align: right;\n",
       "    }\n",
       "</style>\n",
       "<table border=\"1\" class=\"dataframe\">\n",
       "  <thead>\n",
       "    <tr style=\"text-align: right;\">\n",
       "      <th></th>\n",
       "      <th>order_id</th>\n",
       "      <th>product_id</th>\n",
       "      <th>reordered</th>\n",
       "      <th>user_id</th>\n",
       "    </tr>\n",
       "  </thead>\n",
       "  <tbody>\n",
       "    <tr>\n",
       "      <th>0</th>\n",
       "      <td>2141543</td>\n",
       "      <td>11440</td>\n",
       "      <td>0</td>\n",
       "      <td>58454</td>\n",
       "    </tr>\n",
       "    <tr>\n",
       "      <th>1</th>\n",
       "      <td>2141543</td>\n",
       "      <td>31869</td>\n",
       "      <td>1</td>\n",
       "      <td>58454</td>\n",
       "    </tr>\n",
       "    <tr>\n",
       "      <th>2</th>\n",
       "      <td>2141543</td>\n",
       "      <td>30233</td>\n",
       "      <td>1</td>\n",
       "      <td>58454</td>\n",
       "    </tr>\n",
       "    <tr>\n",
       "      <th>3</th>\n",
       "      <td>2141543</td>\n",
       "      <td>27966</td>\n",
       "      <td>1</td>\n",
       "      <td>58454</td>\n",
       "    </tr>\n",
       "    <tr>\n",
       "      <th>4</th>\n",
       "      <td>2141543</td>\n",
       "      <td>13176</td>\n",
       "      <td>1</td>\n",
       "      <td>58454</td>\n",
       "    </tr>\n",
       "    <tr>\n",
       "      <th>5</th>\n",
       "      <td>2141543</td>\n",
       "      <td>31263</td>\n",
       "      <td>0</td>\n",
       "      <td>58454</td>\n",
       "    </tr>\n",
       "    <tr>\n",
       "      <th>6</th>\n",
       "      <td>2141543</td>\n",
       "      <td>31471</td>\n",
       "      <td>0</td>\n",
       "      <td>58454</td>\n",
       "    </tr>\n",
       "    <tr>\n",
       "      <th>7</th>\n",
       "      <td>2141543</td>\n",
       "      <td>9825</td>\n",
       "      <td>1</td>\n",
       "      <td>58454</td>\n",
       "    </tr>\n",
       "    <tr>\n",
       "      <th>8</th>\n",
       "      <td>2141543</td>\n",
       "      <td>6187</td>\n",
       "      <td>1</td>\n",
       "      <td>58454</td>\n",
       "    </tr>\n",
       "    <tr>\n",
       "      <th>9</th>\n",
       "      <td>2141543</td>\n",
       "      <td>16759</td>\n",
       "      <td>1</td>\n",
       "      <td>58454</td>\n",
       "    </tr>\n",
       "  </tbody>\n",
       "</table>\n",
       "</div>"
      ],
      "text/plain": [
       "   order_id  product_id  reordered  user_id\n",
       "0   2141543       11440          0    58454\n",
       "1   2141543       31869          1    58454\n",
       "2   2141543       30233          1    58454\n",
       "3   2141543       27966          1    58454\n",
       "4   2141543       13176          1    58454\n",
       "5   2141543       31263          0    58454\n",
       "6   2141543       31471          0    58454\n",
       "7   2141543        9825          1    58454\n",
       "8   2141543        6187          1    58454\n",
       "9   2141543       16759          1    58454"
      ]
     },
     "execution_count": 56,
     "metadata": {},
     "output_type": "execute_result"
    }
   ],
   "source": [
    "#Creo un nuevo data frame usando order_product y adicionandole la columna de user_id\n",
    "new_df=order_products.merge(instacart_orders,on='order_id')[['order_id','product_id','reordered','user_id']]\n",
    "new_df.head(10)"
   ]
  },
  {
   "cell_type": "code",
   "execution_count": 57,
   "metadata": {
    "id": "8892e4b4"
   },
   "outputs": [],
   "source": [
    "#Agrupar el dataframe por user_id\n",
    "grouped_user=new_df.groupby('user_id')\n",
    "\n",
    "#Para obtener la proporción de cada usuario, se suma la fila de reordered y se divide por la cantidad que hay en cada grupo\n",
    "user_proportion=grouped_user['reordered'].sum()/grouped_user['reordered'].count()"
   ]
  },
  {
   "cell_type": "code",
   "execution_count": 58,
   "metadata": {},
   "outputs": [
    {
     "data": {
      "text/plain": [
       "user_id\n",
       "2         0.038462\n",
       "4         0.000000\n",
       "5         0.666667\n",
       "6         0.000000\n",
       "7         0.928571\n",
       "            ...   \n",
       "206203    0.222222\n",
       "206206    0.714286\n",
       "206207    0.891304\n",
       "206208    0.696000\n",
       "206209    0.320000\n",
       "Name: reordered, Length: 149626, dtype: float64"
      ]
     },
     "execution_count": 58,
     "metadata": {},
     "output_type": "execute_result"
    }
   ],
   "source": [
    "user_proportion"
   ]
  },
  {
   "cell_type": "code",
   "execution_count": 59,
   "metadata": {},
   "outputs": [
    {
     "data": {
      "image/png": "[encoded data removed]",
      "text/plain": [
       "<Figure size 640x480 with 1 Axes>"
      ]
     },
     "metadata": {},
     "output_type": "display_data"
    }
   ],
   "source": [
    "#Grafico los resultados de las proporciones para mirar mejor los resultados \n",
    "\n",
    "user_proportion.hist()\n",
    "plt.xlabel(\"proporción de reorder\") \n",
    "plt.ylabel(\"Número de clientes\") \n",
    "plt.title('Proporción de productos que se vuelven pedidos por cliente')\n",
    "plt.show()\n"
   ]
  },
  {
   "cell_type": "markdown",
   "metadata": {},
   "source": [
    "\n",
    "Conclusiones\n",
    "    \n",
    " Para realizar este punto, se combino primero el data frame  order_product y con user_id para tomar el nombre del producto de este último dataframe. Luego se agrupa el nuevo dataframe por user_id y para obtener la proporción de cada usuario, se suma la fila de reordered y se divide por la cantidad que hay en cada grupo. \n",
    " \n",
    "  De lo obtenido se puede concluir que hay una gran parte de los clientes vuelvee a pedir entre un 50% y 60% de los productos.\n"
   ]
  },
  {
   "cell_type": "markdown",
   "metadata": {
    "id": "92d35137"
   },
   "source": [
    "### [C5] ¿Cuáles son los 20 principales artículos que las personas ponen primero en sus carritos?"
   ]
  },
  {
   "cell_type": "code",
   "execution_count": 60,
   "metadata": {
    "id": "0ae57274",
    "scrolled": false
   },
   "outputs": [
    {
     "data": {
      "text/html": [
       "<div>\n",
       "<style scoped>\n",
       "    .dataframe tbody tr th:only-of-type {\n",
       "        vertical-align: middle;\n",
       "    }\n",
       "\n",
       "    .dataframe tbody tr th {\n",
       "        vertical-align: top;\n",
       "    }\n",
       "\n",
       "    .dataframe thead th {\n",
       "        text-align: right;\n",
       "    }\n",
       "</style>\n",
       "<table border=\"1\" class=\"dataframe\">\n",
       "  <thead>\n",
       "    <tr style=\"text-align: right;\">\n",
       "      <th></th>\n",
       "      <th>product_id</th>\n",
       "      <th>sale_quantity</th>\n",
       "      <th>product_name</th>\n",
       "    </tr>\n",
       "  </thead>\n",
       "  <tbody>\n",
       "    <tr>\n",
       "      <th>0</th>\n",
       "      <td>24852</td>\n",
       "      <td>66050</td>\n",
       "      <td>BANANA</td>\n",
       "    </tr>\n",
       "    <tr>\n",
       "      <th>1</th>\n",
       "      <td>13176</td>\n",
       "      <td>53297</td>\n",
       "      <td>BAG OF ORGANIC BANANAS</td>\n",
       "    </tr>\n",
       "    <tr>\n",
       "      <th>2</th>\n",
       "      <td>21137</td>\n",
       "      <td>37039</td>\n",
       "      <td>ORGANIC STRAWBERRIES</td>\n",
       "    </tr>\n",
       "    <tr>\n",
       "      <th>3</th>\n",
       "      <td>21903</td>\n",
       "      <td>33971</td>\n",
       "      <td>ORGANIC BABY SPINACH</td>\n",
       "    </tr>\n",
       "    <tr>\n",
       "      <th>4</th>\n",
       "      <td>47209</td>\n",
       "      <td>29773</td>\n",
       "      <td>ORGANIC HASS AVOCADO</td>\n",
       "    </tr>\n",
       "    <tr>\n",
       "      <th>5</th>\n",
       "      <td>47766</td>\n",
       "      <td>24689</td>\n",
       "      <td>ORGANIC AVOCADO</td>\n",
       "    </tr>\n",
       "    <tr>\n",
       "      <th>6</th>\n",
       "      <td>47626</td>\n",
       "      <td>21495</td>\n",
       "      <td>LARGE LEMON</td>\n",
       "    </tr>\n",
       "    <tr>\n",
       "      <th>7</th>\n",
       "      <td>16797</td>\n",
       "      <td>20018</td>\n",
       "      <td>STRAWBERRIES</td>\n",
       "    </tr>\n",
       "    <tr>\n",
       "      <th>8</th>\n",
       "      <td>26209</td>\n",
       "      <td>19690</td>\n",
       "      <td>LIMES</td>\n",
       "    </tr>\n",
       "    <tr>\n",
       "      <th>9</th>\n",
       "      <td>27845</td>\n",
       "      <td>19600</td>\n",
       "      <td>ORGANIC WHOLE MILK</td>\n",
       "    </tr>\n",
       "    <tr>\n",
       "      <th>10</th>\n",
       "      <td>27966</td>\n",
       "      <td>19197</td>\n",
       "      <td>ORGANIC RASPBERRIES</td>\n",
       "    </tr>\n",
       "    <tr>\n",
       "      <th>11</th>\n",
       "      <td>22935</td>\n",
       "      <td>15898</td>\n",
       "      <td>ORGANIC YELLOW ONION</td>\n",
       "    </tr>\n",
       "    <tr>\n",
       "      <th>12</th>\n",
       "      <td>24964</td>\n",
       "      <td>15292</td>\n",
       "      <td>ORGANIC GARLIC</td>\n",
       "    </tr>\n",
       "    <tr>\n",
       "      <th>13</th>\n",
       "      <td>45007</td>\n",
       "      <td>14584</td>\n",
       "      <td>ORGANIC ZUCCHINI</td>\n",
       "    </tr>\n",
       "    <tr>\n",
       "      <th>14</th>\n",
       "      <td>39275</td>\n",
       "      <td>13879</td>\n",
       "      <td>ORGANIC BLUEBERRIES</td>\n",
       "    </tr>\n",
       "    <tr>\n",
       "      <th>15</th>\n",
       "      <td>49683</td>\n",
       "      <td>13675</td>\n",
       "      <td>CUCUMBER KIRBY</td>\n",
       "    </tr>\n",
       "    <tr>\n",
       "      <th>16</th>\n",
       "      <td>28204</td>\n",
       "      <td>12544</td>\n",
       "      <td>ORGANIC FUJI APPLE</td>\n",
       "    </tr>\n",
       "    <tr>\n",
       "      <th>17</th>\n",
       "      <td>5876</td>\n",
       "      <td>12232</td>\n",
       "      <td>ORGANIC LEMON</td>\n",
       "    </tr>\n",
       "    <tr>\n",
       "      <th>18</th>\n",
       "      <td>8277</td>\n",
       "      <td>11993</td>\n",
       "      <td>APPLE HONEYCRISP ORGANIC</td>\n",
       "    </tr>\n",
       "    <tr>\n",
       "      <th>19</th>\n",
       "      <td>40706</td>\n",
       "      <td>11781</td>\n",
       "      <td>ORGANIC GRAPE TOMATOES</td>\n",
       "    </tr>\n",
       "  </tbody>\n",
       "</table>\n",
       "</div>"
      ],
      "text/plain": [
       "    product_id  sale_quantity              product_name\n",
       "0        24852          66050                    BANANA\n",
       "1        13176          53297    BAG OF ORGANIC BANANAS\n",
       "2        21137          37039      ORGANIC STRAWBERRIES\n",
       "3        21903          33971      ORGANIC BABY SPINACH\n",
       "4        47209          29773      ORGANIC HASS AVOCADO\n",
       "5        47766          24689           ORGANIC AVOCADO\n",
       "6        47626          21495               LARGE LEMON\n",
       "7        16797          20018              STRAWBERRIES\n",
       "8        26209          19690                     LIMES\n",
       "9        27845          19600        ORGANIC WHOLE MILK\n",
       "10       27966          19197       ORGANIC RASPBERRIES\n",
       "11       22935          15898      ORGANIC YELLOW ONION\n",
       "12       24964          15292            ORGANIC GARLIC\n",
       "13       45007          14584          ORGANIC ZUCCHINI\n",
       "14       39275          13879       ORGANIC BLUEBERRIES\n",
       "15       49683          13675            CUCUMBER KIRBY\n",
       "16       28204          12544        ORGANIC FUJI APPLE\n",
       "17        5876          12232             ORGANIC LEMON\n",
       "18        8277          11993  APPLE HONEYCRISP ORGANIC\n",
       "19       40706          11781    ORGANIC GRAPE TOMATOES"
      ]
     },
     "execution_count": 60,
     "metadata": {},
     "output_type": "execute_result"
    }
   ],
   "source": [
    "#filtrar el dataframe por add_to_cart_order es 1\n",
    "filter_df1=order_products[order_products['add_to_cart_order']==1]\n",
    "freq_product1=filter_df1['product_id'].value_counts()\n",
    "\n",
    "#se ponen los primero 20\n",
    "popular1_product=freq_product.head(20).to_frame().reset_index()\n",
    "#Se cambian los nombres a laas columnas\n",
    "popular1_product.columns=['product_id','sale_quantity']\n",
    "\n",
    "#del archivo products se obtiene el nombre del producto, para esto se combinan los dataframes (unión interna)\n",
    "popular1_product_final=popular1_product.merge(products,on='product_id').drop(['aisle_id','department_id'], axis=1)\n",
    "\n",
    "popular1_product_final"
   ]
  },
  {
   "cell_type": "code",
   "execution_count": 61,
   "metadata": {},
   "outputs": [
    {
     "data": {
      "image/png": "[encoded data removed]",
      "text/plain": [
       "<Figure size 640x480 with 1 Axes>"
      ]
     },
     "metadata": {},
     "output_type": "display_data"
    }
   ],
   "source": [
    "#Se realiza un diagrama de barras para visualizar la información obtenida\n",
    "popular1_product_final.plot(title='Top 20 de productos que ponen primero en el carro',x='product_name', y='sale_quantity', kind='bar',xlabel='Producto', ylabel='cantidad',legend=False)\n",
    "plt.show()"
   ]
  },
  {
   "cell_type": "markdown",
   "metadata": {
    "id": "28ce9872"
   },
   "source": [
    "Los productos que la gente pone de primero en sus carros son los mismos a los productos que la gente más compra."
   ]
  },
  {
   "cell_type": "markdown",
   "metadata": {
    "id": "uITbFCEoDosC"
   },
   "source": [
    "### Conclusion general del proyecto:"
   ]
  },
  {
   "cell_type": "markdown",
   "metadata": {
    "id": "Nk-4GS7mDwqY"
   },
   "source": [
    "Para este proyecto primero se hizo el preprocesamiento de datos, donde se reviso en cada archivo si habían filas que estuvieran totalmente duplicadas, en caso de que hubieran estas se eliminaron, también se analizo si el tipo que tenía cada columna era correcto, por ejemplo que los ID fueran int. En caso de ser necesario se modifico el tipo de columna a la que fuera más correctas. Habían unas que eran de tipo float que se cambiaron a int. También se miro los valores auscente y se analizó por que se podían reemplazar dependiendo de lo que representara, revisando los datos que si tenía la columna. \n",
    "\n",
    "Del análisis se puede concluir que los horarios en los que los clientes hacen menos compras es en la madrugada, entre las 0 horas y las 8. Y donde más compras se realizan es a partir de las 10 de la mañana casi hasta las 18 horas, muchos clientes hacen pedido entre 1 y 8 días, también se observo que los productos que más vuelven a pedir son produtos más perecederos como lo son las frutas y verduras y la leche. Y que los clientes prefieren comprar productos orgánicos. La mayoria de los 20 productos más populares (que más se compran) son orgánicos e igualmente son los que más vuelven a comprar. Comparados con los usuarios que vuelven a realizar un pedido, son pocos los que se demoran 30 días para hacer un pedido nuevo. Hay una pequeña diferencia entre la cantidad de clientes que hacen sus compras los días miercóles y sábados, aunque en la mayoria de los horarios del día hay más clientes que hacen sus compras el día sábado. Y se observo que los días sábados las horas en que más compran son entre las 13 y las 14, mientras que los miercoles compran más a las 15 horas."
   ]
  }
 ],
 "metadata": {
  "ExecuteTimeLog": [
   {
    "duration": 2143,
    "start_time": "2024-09-14T20:37:09.569Z"
   },
   {
    "duration": 286,
    "start_time": "2024-09-14T20:39:58.316Z"
   },
   {
    "duration": 225,
    "start_time": "2024-09-14T20:40:16.627Z"
   },
   {
    "duration": 8,
    "start_time": "2024-09-14T20:40:35.000Z"
   },
   {
    "duration": 119,
    "start_time": "2024-09-14T20:40:55.271Z"
   },
   {
    "duration": 8,
    "start_time": "2024-09-14T20:40:55.891Z"
   },
   {
    "duration": 968,
    "start_time": "2024-09-14T20:45:44.556Z"
   },
   {
    "duration": 863,
    "start_time": "2024-09-14T20:45:51.260Z"
   },
   {
    "duration": 10,
    "start_time": "2024-09-14T20:46:12.198Z"
   },
   {
    "duration": 17,
    "start_time": "2024-09-14T20:46:37.708Z"
   },
   {
    "duration": 15,
    "start_time": "2024-09-14T20:46:49.549Z"
   },
   {
    "duration": 826,
    "start_time": "2024-09-14T20:48:22.215Z"
   },
   {
    "duration": 14,
    "start_time": "2024-09-14T20:50:49.552Z"
   },
   {
    "duration": 824,
    "start_time": "2024-09-14T20:51:19.168Z"
   },
   {
    "duration": 28,
    "start_time": "2024-09-14T20:51:22.412Z"
   },
   {
    "duration": 26,
    "start_time": "2024-09-14T20:53:22.053Z"
   },
   {
    "duration": 14,
    "start_time": "2024-09-14T20:53:33.502Z"
   },
   {
    "duration": 25,
    "start_time": "2024-09-14T20:53:51.322Z"
   },
   {
    "duration": 13,
    "start_time": "2024-09-14T20:55:20.778Z"
   },
   {
    "duration": 26,
    "start_time": "2024-09-14T20:58:15.242Z"
   },
   {
    "duration": 43,
    "start_time": "2024-09-14T22:05:17.543Z"
   },
   {
    "duration": 10,
    "start_time": "2024-09-14T22:21:53.389Z"
   },
   {
    "duration": 66,
    "start_time": "2024-09-14T22:24:31.090Z"
   },
   {
    "duration": 69,
    "start_time": "2024-09-14T22:24:36.770Z"
   },
   {
    "duration": 71,
    "start_time": "2024-09-14T22:25:21.583Z"
   },
   {
    "duration": 141,
    "start_time": "2024-09-14T22:26:04.617Z"
   },
   {
    "duration": 69,
    "start_time": "2024-09-14T22:26:46.166Z"
   },
   {
    "duration": 98,
    "start_time": "2024-09-14T22:26:47.026Z"
   },
   {
    "duration": 175,
    "start_time": "2024-09-14T22:27:35.442Z"
   },
   {
    "duration": 444,
    "start_time": "2024-09-14T22:30:56.575Z"
   },
   {
    "duration": 897,
    "start_time": "2024-09-14T22:30:58.512Z"
   },
   {
    "duration": 45,
    "start_time": "2024-09-14T22:31:05.846Z"
   },
   {
    "duration": 85,
    "start_time": "2024-09-14T22:31:34.834Z"
   },
   {
    "duration": 131,
    "start_time": "2024-09-14T22:33:47.841Z"
   },
   {
    "duration": 71,
    "start_time": "2024-09-14T22:34:16.630Z"
   },
   {
    "duration": 180,
    "start_time": "2024-09-14T22:35:15.467Z"
   },
   {
    "duration": 68,
    "start_time": "2024-09-14T22:35:32.072Z"
   },
   {
    "duration": 82,
    "start_time": "2024-09-14T22:35:47.148Z"
   },
   {
    "duration": 153,
    "start_time": "2024-09-14T22:45:52.051Z"
   },
   {
    "duration": 5,
    "start_time": "2024-09-14T22:46:01.573Z"
   },
   {
    "duration": 18,
    "start_time": "2024-09-14T22:46:20.831Z"
   },
   {
    "duration": 19,
    "start_time": "2024-09-14T22:49:54.295Z"
   },
   {
    "duration": 4,
    "start_time": "2024-09-14T22:50:15.357Z"
   },
   {
    "duration": 9,
    "start_time": "2024-09-14T22:50:24.945Z"
   },
   {
    "duration": 15,
    "start_time": "2024-09-14T22:50:57.460Z"
   },
   {
    "duration": 13,
    "start_time": "2024-09-14T22:51:53.721Z"
   },
   {
    "duration": 7,
    "start_time": "2024-09-14T22:52:07.528Z"
   },
   {
    "duration": 7,
    "start_time": "2024-09-14T22:52:14.042Z"
   },
   {
    "duration": 143,
    "start_time": "2024-09-14T22:53:47.939Z"
   },
   {
    "duration": 25,
    "start_time": "2024-09-14T22:55:29.276Z"
   },
   {
    "duration": 24,
    "start_time": "2024-09-14T22:55:32.476Z"
   },
   {
    "duration": 12,
    "start_time": "2024-09-14T22:57:28.883Z"
   },
   {
    "duration": 12,
    "start_time": "2024-09-14T22:57:36.923Z"
   },
   {
    "duration": 9,
    "start_time": "2024-09-14T22:58:27.809Z"
   },
   {
    "duration": 5,
    "start_time": "2024-09-14T22:59:01.764Z"
   },
   {
    "duration": 11,
    "start_time": "2024-09-14T23:00:11.700Z"
   },
   {
    "duration": 17,
    "start_time": "2024-09-14T23:01:28.043Z"
   },
   {
    "duration": 29,
    "start_time": "2024-09-14T23:02:21.567Z"
   },
   {
    "duration": 11,
    "start_time": "2024-09-14T23:05:54.004Z"
   },
   {
    "duration": 10,
    "start_time": "2024-09-14T23:06:50.584Z"
   },
   {
    "duration": 4,
    "start_time": "2024-09-14T23:14:52.325Z"
   },
   {
    "duration": 114,
    "start_time": "2024-09-14T23:15:12.080Z"
   },
   {
    "duration": 16,
    "start_time": "2024-09-14T23:15:33.675Z"
   },
   {
    "duration": 21,
    "start_time": "2024-09-14T23:15:54.692Z"
   },
   {
    "duration": 16,
    "start_time": "2024-09-14T23:17:07.636Z"
   },
   {
    "duration": 251,
    "start_time": "2024-09-14T23:18:42.014Z"
   },
   {
    "duration": 8,
    "start_time": "2024-09-14T23:18:59.094Z"
   },
   {
    "duration": 19,
    "start_time": "2024-09-14T23:26:53.825Z"
   },
   {
    "duration": 8,
    "start_time": "2024-09-14T23:31:08.067Z"
   },
   {
    "duration": 4,
    "start_time": "2024-09-14T23:33:31.271Z"
   },
   {
    "duration": 9,
    "start_time": "2024-09-14T23:33:56.151Z"
   },
   {
    "duration": 8,
    "start_time": "2024-09-14T23:36:37.178Z"
   },
   {
    "duration": 14,
    "start_time": "2024-09-14T23:36:49.827Z"
   },
   {
    "duration": 10,
    "start_time": "2024-09-14T23:38:38.537Z"
   },
   {
    "duration": 12,
    "start_time": "2024-09-14T23:40:42.639Z"
   },
   {
    "duration": 12,
    "start_time": "2024-09-14T23:42:14.648Z"
   },
   {
    "duration": 7,
    "start_time": "2024-09-14T23:45:59.820Z"
   },
   {
    "duration": 7,
    "start_time": "2024-09-14T23:46:07.020Z"
   },
   {
    "duration": 10,
    "start_time": "2024-09-15T00:00:41.443Z"
   },
   {
    "duration": 12,
    "start_time": "2024-09-15T00:04:23.057Z"
   },
   {
    "duration": 12,
    "start_time": "2024-09-15T00:08:38.564Z"
   },
   {
    "duration": 10,
    "start_time": "2024-09-15T00:08:44.892Z"
   },
   {
    "duration": 9,
    "start_time": "2024-09-15T00:09:20.788Z"
   },
   {
    "duration": 10,
    "start_time": "2024-09-15T00:12:30.935Z"
   },
   {
    "duration": 5,
    "start_time": "2024-09-15T00:13:18.077Z"
   },
   {
    "duration": 6,
    "start_time": "2024-09-15T00:13:31.232Z"
   },
   {
    "duration": 8,
    "start_time": "2024-09-15T00:13:45.773Z"
   },
   {
    "duration": 8,
    "start_time": "2024-09-15T00:14:44.128Z"
   },
   {
    "duration": 8,
    "start_time": "2024-09-15T00:15:09.539Z"
   },
   {
    "duration": 9,
    "start_time": "2024-09-15T00:15:44.023Z"
   },
   {
    "duration": 7,
    "start_time": "2024-09-15T00:23:11.882Z"
   },
   {
    "duration": 17,
    "start_time": "2024-09-15T00:23:48.633Z"
   },
   {
    "duration": 4,
    "start_time": "2024-09-15T00:23:55.429Z"
   },
   {
    "duration": 12,
    "start_time": "2024-09-15T00:23:58.657Z"
   },
   {
    "duration": 8,
    "start_time": "2024-09-15T00:24:52.010Z"
   },
   {
    "duration": 4,
    "start_time": "2024-09-15T00:28:09.848Z"
   },
   {
    "duration": 7,
    "start_time": "2024-09-15T00:28:53.693Z"
   },
   {
    "duration": 4,
    "start_time": "2024-09-15T00:29:32.531Z"
   },
   {
    "duration": 5,
    "start_time": "2024-09-15T00:30:27.788Z"
   },
   {
    "duration": 9,
    "start_time": "2024-09-15T00:30:38.777Z"
   },
   {
    "duration": 4,
    "start_time": "2024-09-15T00:31:20.164Z"
   },
   {
    "duration": 4,
    "start_time": "2024-09-15T00:31:28.245Z"
   },
   {
    "duration": 6,
    "start_time": "2024-09-15T00:31:34.045Z"
   },
   {
    "duration": 7,
    "start_time": "2024-09-15T00:32:28.404Z"
   },
   {
    "duration": 725,
    "start_time": "2024-09-15T00:33:09.146Z"
   },
   {
    "duration": 49,
    "start_time": "2024-09-15T00:33:43.891Z"
   },
   {
    "duration": 2119,
    "start_time": "2024-09-15T14:57:59.348Z"
   },
   {
    "duration": 1059,
    "start_time": "2024-09-15T14:58:06.736Z"
   },
   {
    "duration": 47,
    "start_time": "2024-09-15T14:58:07.808Z"
   },
   {
    "duration": 81,
    "start_time": "2024-09-15T14:58:15.857Z"
   },
   {
    "duration": 85,
    "start_time": "2024-09-15T14:58:28.336Z"
   },
   {
    "duration": 15,
    "start_time": "2024-09-15T15:00:18.277Z"
   },
   {
    "duration": 10,
    "start_time": "2024-09-15T15:02:11.655Z"
   },
   {
    "duration": 6,
    "start_time": "2024-09-15T15:05:28.543Z"
   },
   {
    "duration": 166,
    "start_time": "2024-09-15T15:08:26.429Z"
   },
   {
    "duration": 32,
    "start_time": "2024-09-15T15:08:37.817Z"
   },
   {
    "duration": 15,
    "start_time": "2024-09-15T15:08:53.892Z"
   },
   {
    "duration": 4,
    "start_time": "2024-09-15T15:08:55.799Z"
   },
   {
    "duration": 20,
    "start_time": "2024-09-15T15:09:12.609Z"
   },
   {
    "duration": 10,
    "start_time": "2024-09-15T15:09:25.728Z"
   },
   {
    "duration": 11,
    "start_time": "2024-09-15T15:09:34.487Z"
   },
   {
    "duration": 4,
    "start_time": "2024-09-15T15:11:53.402Z"
   },
   {
    "duration": 4,
    "start_time": "2024-09-15T15:11:56.808Z"
   },
   {
    "duration": 5,
    "start_time": "2024-09-15T15:12:36.669Z"
   },
   {
    "duration": 7,
    "start_time": "2024-09-15T15:12:37.633Z"
   },
   {
    "duration": 738,
    "start_time": "2024-09-15T15:13:15.015Z"
   },
   {
    "duration": 117,
    "start_time": "2024-09-15T15:15:43.839Z"
   },
   {
    "duration": 118,
    "start_time": "2024-09-15T15:16:03.837Z"
   },
   {
    "duration": 182,
    "start_time": "2024-09-15T15:17:26.272Z"
   },
   {
    "duration": 226,
    "start_time": "2024-09-15T15:23:44.048Z"
   },
   {
    "duration": 551,
    "start_time": "2024-09-15T15:23:53.352Z"
   },
   {
    "duration": 294,
    "start_time": "2024-09-15T15:23:57.856Z"
   },
   {
    "duration": 91,
    "start_time": "2024-09-15T15:27:49.005Z"
   },
   {
    "duration": 83,
    "start_time": "2024-09-15T15:27:53.721Z"
   },
   {
    "duration": 71,
    "start_time": "2024-09-15T15:28:03.345Z"
   },
   {
    "duration": 83,
    "start_time": "2024-09-15T15:30:48.691Z"
   },
   {
    "duration": 78,
    "start_time": "2024-09-15T15:30:52.643Z"
   },
   {
    "duration": 179,
    "start_time": "2024-09-15T15:39:27.489Z"
   },
   {
    "duration": 6,
    "start_time": "2024-09-15T15:42:41.431Z"
   },
   {
    "duration": 12,
    "start_time": "2024-09-15T15:42:51.883Z"
   },
   {
    "duration": 8,
    "start_time": "2024-09-15T15:44:23.752Z"
   },
   {
    "duration": 15,
    "start_time": "2024-09-15T15:44:57.003Z"
   },
   {
    "duration": 8,
    "start_time": "2024-09-15T15:45:02.765Z"
   },
   {
    "duration": 15,
    "start_time": "2024-09-15T15:46:03.565Z"
   },
   {
    "duration": 5,
    "start_time": "2024-09-15T15:46:58.394Z"
   },
   {
    "duration": 15,
    "start_time": "2024-09-15T16:00:08.885Z"
   },
   {
    "duration": 10,
    "start_time": "2024-09-15T16:00:15.617Z"
   },
   {
    "duration": 6,
    "start_time": "2024-09-15T16:01:54.483Z"
   },
   {
    "duration": 6,
    "start_time": "2024-09-15T16:02:00.036Z"
   },
   {
    "duration": 16,
    "start_time": "2024-09-15T16:03:02.408Z"
   },
   {
    "duration": 14,
    "start_time": "2024-09-15T16:03:11.578Z"
   },
   {
    "duration": 9,
    "start_time": "2024-09-15T16:04:15.783Z"
   },
   {
    "duration": 18,
    "start_time": "2024-09-15T16:04:38.247Z"
   },
   {
    "duration": 11,
    "start_time": "2024-09-15T16:06:01.557Z"
   },
   {
    "duration": 43,
    "start_time": "2024-09-15T16:08:55.511Z"
   },
   {
    "duration": 8,
    "start_time": "2024-09-15T16:08:59.782Z"
   },
   {
    "duration": 8,
    "start_time": "2024-09-15T16:09:24.160Z"
   },
   {
    "duration": 13,
    "start_time": "2024-09-15T16:20:51.142Z"
   },
   {
    "duration": 13,
    "start_time": "2024-09-15T16:21:57.410Z"
   },
   {
    "duration": 12,
    "start_time": "2024-09-15T16:22:09.158Z"
   },
   {
    "duration": 75858,
    "start_time": "2024-09-15T16:22:13.529Z"
   },
   {
    "duration": 5,
    "start_time": "2024-09-15T16:27:06.676Z"
   },
   {
    "duration": 19,
    "start_time": "2024-09-15T16:27:19.922Z"
   },
   {
    "duration": 15,
    "start_time": "2024-09-15T16:30:07.522Z"
   },
   {
    "duration": 7,
    "start_time": "2024-09-15T16:30:19.239Z"
   },
   {
    "duration": 41,
    "start_time": "2024-09-15T16:30:34.168Z"
   },
   {
    "duration": 6,
    "start_time": "2024-09-15T16:31:13.311Z"
   },
   {
    "duration": 6,
    "start_time": "2024-09-15T16:32:52.854Z"
   },
   {
    "duration": 6,
    "start_time": "2024-09-15T16:33:56.958Z"
   },
   {
    "duration": 13,
    "start_time": "2024-09-15T16:35:10.751Z"
   },
   {
    "duration": 8,
    "start_time": "2024-09-15T16:35:16.481Z"
   },
   {
    "duration": 6,
    "start_time": "2024-09-15T16:36:16.727Z"
   },
   {
    "duration": 434,
    "start_time": "2024-09-15T16:43:37.921Z"
   },
   {
    "duration": 890,
    "start_time": "2024-09-15T16:43:40.013Z"
   },
   {
    "duration": 43,
    "start_time": "2024-09-15T16:43:46.073Z"
   },
   {
    "duration": 82,
    "start_time": "2024-09-15T16:43:51.412Z"
   },
   {
    "duration": 83,
    "start_time": "2024-09-15T16:44:01.868Z"
   },
   {
    "duration": 8,
    "start_time": "2024-09-15T16:44:08.192Z"
   },
   {
    "duration": 174,
    "start_time": "2024-09-15T16:44:12.202Z"
   },
   {
    "duration": 32,
    "start_time": "2024-09-15T16:44:14.266Z"
   },
   {
    "duration": 14,
    "start_time": "2024-09-15T16:44:20.345Z"
   },
   {
    "duration": 4,
    "start_time": "2024-09-15T16:44:21.382Z"
   },
   {
    "duration": 20,
    "start_time": "2024-09-15T16:44:23.066Z"
   },
   {
    "duration": 8,
    "start_time": "2024-09-15T16:44:26.184Z"
   },
   {
    "duration": 5,
    "start_time": "2024-09-15T16:44:31.623Z"
   },
   {
    "duration": 4,
    "start_time": "2024-09-15T16:44:32.458Z"
   },
   {
    "duration": 5,
    "start_time": "2024-09-15T16:44:37.540Z"
   },
   {
    "duration": 4,
    "start_time": "2024-09-15T16:44:38.435Z"
   },
   {
    "duration": 736,
    "start_time": "2024-09-15T16:44:48.367Z"
   },
   {
    "duration": 155,
    "start_time": "2024-09-15T16:44:51.008Z"
   },
   {
    "duration": 8,
    "start_time": "2024-09-15T16:44:58.680Z"
   },
   {
    "duration": 7,
    "start_time": "2024-09-15T16:45:09.926Z"
   },
   {
    "duration": 6,
    "start_time": "2024-09-15T16:45:24.373Z"
   },
   {
    "duration": 10,
    "start_time": "2024-09-15T16:45:57.049Z"
   },
   {
    "duration": 12,
    "start_time": "2024-09-15T16:53:53.302Z"
   },
   {
    "duration": 9,
    "start_time": "2024-09-15T16:55:25.292Z"
   },
   {
    "duration": 3,
    "start_time": "2024-09-15T16:56:53.898Z"
   },
   {
    "duration": 4,
    "start_time": "2024-09-15T17:00:53.978Z"
   },
   {
    "duration": 4,
    "start_time": "2024-09-15T17:07:27.900Z"
   },
   {
    "duration": 10,
    "start_time": "2024-09-15T17:07:54.950Z"
   },
   {
    "duration": 7,
    "start_time": "2024-09-15T17:10:48.291Z"
   },
   {
    "duration": 9,
    "start_time": "2024-09-15T17:11:28.510Z"
   },
   {
    "duration": 18,
    "start_time": "2024-09-15T17:12:39.006Z"
   },
   {
    "duration": 30,
    "start_time": "2024-09-15T17:12:59.766Z"
   },
   {
    "duration": 29,
    "start_time": "2024-09-15T17:14:37.435Z"
   },
   {
    "duration": 2,
    "start_time": "2024-09-15T17:19:34.261Z"
   },
   {
    "duration": 3,
    "start_time": "2024-09-15T17:25:02.653Z"
   },
   {
    "duration": 7,
    "start_time": "2024-09-15T17:30:17.045Z"
   },
   {
    "duration": 179,
    "start_time": "2024-09-15T17:32:54.311Z"
   },
   {
    "duration": 12,
    "start_time": "2024-09-15T17:33:02.784Z"
   },
   {
    "duration": 16,
    "start_time": "2024-09-15T17:33:42.134Z"
   },
   {
    "duration": 14,
    "start_time": "2024-09-15T17:33:53.888Z"
   },
   {
    "duration": 11,
    "start_time": "2024-09-15T17:35:16.983Z"
   },
   {
    "duration": 9,
    "start_time": "2024-09-15T17:35:49.862Z"
   },
   {
    "duration": 5,
    "start_time": "2024-09-15T17:42:17.316Z"
   },
   {
    "duration": 5,
    "start_time": "2024-09-15T17:51:26.034Z"
   },
   {
    "duration": 5,
    "start_time": "2024-09-15T17:51:47.811Z"
   },
   {
    "duration": 4,
    "start_time": "2024-09-15T17:51:56.832Z"
   },
   {
    "duration": 4,
    "start_time": "2024-09-15T17:52:43.971Z"
   },
   {
    "duration": 5,
    "start_time": "2024-09-15T17:52:53.835Z"
   },
   {
    "duration": 4,
    "start_time": "2024-09-15T17:53:41.641Z"
   },
   {
    "duration": 6,
    "start_time": "2024-09-15T18:04:24.788Z"
   },
   {
    "duration": 14,
    "start_time": "2024-09-15T18:12:54.141Z"
   },
   {
    "duration": 13,
    "start_time": "2024-09-15T18:13:36.450Z"
   },
   {
    "duration": 345,
    "start_time": "2024-09-15T18:14:11.273Z"
   },
   {
    "duration": 88,
    "start_time": "2024-09-15T18:16:55.409Z"
   },
   {
    "duration": 41,
    "start_time": "2024-09-15T18:17:26.772Z"
   },
   {
    "duration": 316,
    "start_time": "2024-09-15T18:17:34.132Z"
   },
   {
    "duration": 93,
    "start_time": "2024-09-15T18:24:38.782Z"
   },
   {
    "duration": 66,
    "start_time": "2024-09-15T18:25:05.538Z"
   },
   {
    "duration": 87,
    "start_time": "2024-09-15T18:25:14.445Z"
   },
   {
    "duration": 128,
    "start_time": "2024-09-15T18:25:42.383Z"
   },
   {
    "duration": 5,
    "start_time": "2024-09-15T18:25:46.562Z"
   },
   {
    "duration": 123,
    "start_time": "2024-09-15T18:25:50.898Z"
   },
   {
    "duration": 115,
    "start_time": "2024-09-15T18:27:47.422Z"
   },
   {
    "duration": 3,
    "start_time": "2024-09-15T18:27:59.529Z"
   },
   {
    "duration": 252,
    "start_time": "2024-09-15T18:28:38.570Z"
   },
   {
    "duration": 73,
    "start_time": "2024-09-15T18:36:14.318Z"
   },
   {
    "duration": 74,
    "start_time": "2024-09-15T18:36:32.601Z"
   },
   {
    "duration": 6,
    "start_time": "2024-09-15T18:36:57.827Z"
   },
   {
    "duration": 4,
    "start_time": "2024-09-15T18:38:21.230Z"
   },
   {
    "duration": 4,
    "start_time": "2024-09-15T18:38:38.496Z"
   },
   {
    "duration": 76,
    "start_time": "2024-09-15T18:39:04.641Z"
   },
   {
    "duration": 75,
    "start_time": "2024-09-15T18:43:14.417Z"
   },
   {
    "duration": 74,
    "start_time": "2024-09-15T18:43:48.251Z"
   },
   {
    "duration": 258,
    "start_time": "2024-09-15T18:46:03.234Z"
   },
   {
    "duration": 7,
    "start_time": "2024-09-15T18:46:31.381Z"
   },
   {
    "duration": 7,
    "start_time": "2024-09-15T18:46:42.981Z"
   },
   {
    "duration": 21,
    "start_time": "2024-09-15T18:47:21.531Z"
   },
   {
    "duration": 16,
    "start_time": "2024-09-15T18:48:12.407Z"
   },
   {
    "duration": 24,
    "start_time": "2024-09-15T18:48:17.467Z"
   },
   {
    "duration": 20,
    "start_time": "2024-09-15T18:49:36.579Z"
   },
   {
    "duration": 22,
    "start_time": "2024-09-15T18:50:34.464Z"
   },
   {
    "duration": 25,
    "start_time": "2024-09-15T18:50:37.132Z"
   },
   {
    "duration": 4,
    "start_time": "2024-09-15T19:01:00.292Z"
   },
   {
    "duration": 4,
    "start_time": "2024-09-15T19:01:57.081Z"
   },
   {
    "duration": 3,
    "start_time": "2024-09-15T19:03:17.648Z"
   },
   {
    "duration": 4,
    "start_time": "2024-09-15T19:03:29.840Z"
   },
   {
    "duration": 155,
    "start_time": "2024-09-15T19:12:24.666Z"
   },
   {
    "duration": 403,
    "start_time": "2024-09-15T19:12:41.081Z"
   },
   {
    "duration": 1078,
    "start_time": "2024-09-15T19:12:41.932Z"
   },
   {
    "duration": 45,
    "start_time": "2024-09-15T19:12:48.857Z"
   },
   {
    "duration": 82,
    "start_time": "2024-09-15T19:12:53.456Z"
   },
   {
    "duration": 80,
    "start_time": "2024-09-15T19:13:01.293Z"
   },
   {
    "duration": 8,
    "start_time": "2024-09-15T19:13:08.887Z"
   },
   {
    "duration": 165,
    "start_time": "2024-09-15T19:13:14.171Z"
   },
   {
    "duration": 26,
    "start_time": "2024-09-15T19:13:15.156Z"
   },
   {
    "duration": 13,
    "start_time": "2024-09-15T19:13:21.716Z"
   },
   {
    "duration": 4,
    "start_time": "2024-09-15T19:13:22.623Z"
   },
   {
    "duration": 20,
    "start_time": "2024-09-15T19:13:24.518Z"
   },
   {
    "duration": 9,
    "start_time": "2024-09-15T19:13:26.029Z"
   },
   {
    "duration": 4,
    "start_time": "2024-09-15T19:13:31.468Z"
   },
   {
    "duration": 4,
    "start_time": "2024-09-15T19:13:32.341Z"
   },
   {
    "duration": 5,
    "start_time": "2024-09-15T19:13:38.076Z"
   },
   {
    "duration": 4,
    "start_time": "2024-09-15T19:13:38.917Z"
   },
   {
    "duration": 729,
    "start_time": "2024-09-15T19:13:44.756Z"
   },
   {
    "duration": 155,
    "start_time": "2024-09-15T19:13:46.488Z"
   },
   {
    "duration": 6,
    "start_time": "2024-09-15T19:13:53.829Z"
   },
   {
    "duration": 7,
    "start_time": "2024-09-15T19:14:01.289Z"
   },
   {
    "duration": 5,
    "start_time": "2024-09-15T19:14:06.895Z"
   },
   {
    "duration": 9,
    "start_time": "2024-09-15T19:14:07.876Z"
   },
   {
    "duration": 8,
    "start_time": "2024-09-15T19:14:13.449Z"
   },
   {
    "duration": 4,
    "start_time": "2024-09-15T19:14:20.576Z"
   },
   {
    "duration": 4,
    "start_time": "2024-09-15T19:14:21.755Z"
   },
   {
    "duration": 10,
    "start_time": "2024-09-15T19:14:22.945Z"
   },
   {
    "duration": 8,
    "start_time": "2024-09-15T19:14:29.732Z"
   },
   {
    "duration": 30,
    "start_time": "2024-09-15T19:14:36.141Z"
   },
   {
    "duration": 5,
    "start_time": "2024-09-15T19:14:39.436Z"
   },
   {
    "duration": 75,
    "start_time": "2024-09-15T19:14:44.816Z"
   },
   {
    "duration": 21,
    "start_time": "2024-09-15T19:14:52.080Z"
   },
   {
    "duration": 19,
    "start_time": "2024-09-15T19:14:53.036Z"
   },
   {
    "duration": 3,
    "start_time": "2024-09-15T19:15:00.441Z"
   },
   {
    "duration": 4,
    "start_time": "2024-09-15T19:15:03.012Z"
   },
   {
    "duration": 350,
    "start_time": "2024-09-15T19:36:45.149Z"
   },
   {
    "duration": 177,
    "start_time": "2024-09-15T19:39:43.787Z"
   },
   {
    "duration": 125,
    "start_time": "2024-09-15T19:40:56.863Z"
   },
   {
    "duration": 134,
    "start_time": "2024-09-15T19:43:48.408Z"
   },
   {
    "duration": 311,
    "start_time": "2024-09-15T19:51:12.647Z"
   },
   {
    "duration": 128,
    "start_time": "2024-09-15T19:51:29.904Z"
   },
   {
    "duration": 175,
    "start_time": "2024-09-15T19:51:51.896Z"
   },
   {
    "duration": 134,
    "start_time": "2024-09-15T19:52:57.660Z"
   },
   {
    "duration": 129,
    "start_time": "2024-09-15T19:53:30.681Z"
   },
   {
    "duration": 127,
    "start_time": "2024-09-15T19:55:19.409Z"
   },
   {
    "duration": 148,
    "start_time": "2024-09-15T19:55:40.373Z"
   },
   {
    "duration": 145,
    "start_time": "2024-09-15T19:55:51.825Z"
   },
   {
    "duration": 5,
    "start_time": "2024-09-15T19:56:08.009Z"
   },
   {
    "duration": 139,
    "start_time": "2024-09-15T19:56:12.465Z"
   },
   {
    "duration": 146,
    "start_time": "2024-09-15T20:34:37.496Z"
   },
   {
    "duration": 1209,
    "start_time": "2024-09-15T20:36:07.054Z"
   },
   {
    "duration": 795,
    "start_time": "2024-09-15T20:36:36.614Z"
   },
   {
    "duration": 0,
    "start_time": "2024-09-15T20:39:11.690Z"
   },
   {
    "duration": 133,
    "start_time": "2024-09-15T20:39:33.525Z"
   },
   {
    "duration": 156,
    "start_time": "2024-09-15T20:40:23.745Z"
   },
   {
    "duration": 135,
    "start_time": "2024-09-15T20:41:46.441Z"
   },
   {
    "duration": 142,
    "start_time": "2024-09-15T20:42:17.227Z"
   },
   {
    "duration": 138,
    "start_time": "2024-09-15T20:53:32.969Z"
   },
   {
    "duration": 140,
    "start_time": "2024-09-15T20:54:32.756Z"
   },
   {
    "duration": 139,
    "start_time": "2024-09-15T20:56:02.233Z"
   },
   {
    "duration": 5,
    "start_time": "2024-09-15T21:02:42.449Z"
   },
   {
    "duration": 13,
    "start_time": "2024-09-15T21:02:51.285Z"
   },
   {
    "duration": 151,
    "start_time": "2024-09-15T21:03:13.765Z"
   },
   {
    "duration": 147,
    "start_time": "2024-09-15T21:03:33.853Z"
   },
   {
    "duration": 5,
    "start_time": "2024-09-15T21:05:11.516Z"
   },
   {
    "duration": 124,
    "start_time": "2024-09-15T21:05:18.015Z"
   },
   {
    "duration": 437,
    "start_time": "2024-09-15T21:15:29.662Z"
   },
   {
    "duration": 1119,
    "start_time": "2024-09-15T21:15:30.101Z"
   },
   {
    "duration": 53,
    "start_time": "2024-09-15T21:15:31.223Z"
   },
   {
    "duration": 97,
    "start_time": "2024-09-15T21:15:31.279Z"
   },
   {
    "duration": 89,
    "start_time": "2024-09-15T21:15:31.378Z"
   },
   {
    "duration": 6,
    "start_time": "2024-09-15T21:15:31.470Z"
   },
   {
    "duration": 183,
    "start_time": "2024-09-15T21:15:31.477Z"
   },
   {
    "duration": 28,
    "start_time": "2024-09-15T21:15:31.662Z"
   },
   {
    "duration": 12,
    "start_time": "2024-09-15T21:15:31.692Z"
   },
   {
    "duration": 3,
    "start_time": "2024-09-15T21:15:31.724Z"
   },
   {
    "duration": 19,
    "start_time": "2024-09-15T21:15:31.729Z"
   },
   {
    "duration": 7,
    "start_time": "2024-09-15T21:15:31.750Z"
   },
   {
    "duration": 3,
    "start_time": "2024-09-15T21:15:31.759Z"
   },
   {
    "duration": 4,
    "start_time": "2024-09-15T21:15:31.764Z"
   },
   {
    "duration": 5,
    "start_time": "2024-09-15T21:15:31.769Z"
   },
   {
    "duration": 3,
    "start_time": "2024-09-15T21:15:31.776Z"
   },
   {
    "duration": 808,
    "start_time": "2024-09-15T21:15:31.780Z"
   },
   {
    "duration": 166,
    "start_time": "2024-09-15T21:15:32.590Z"
   },
   {
    "duration": 8,
    "start_time": "2024-09-15T21:15:32.758Z"
   },
   {
    "duration": 6,
    "start_time": "2024-09-15T21:15:32.767Z"
   },
   {
    "duration": 5,
    "start_time": "2024-09-15T21:15:32.775Z"
   },
   {
    "duration": 10,
    "start_time": "2024-09-15T21:15:32.781Z"
   },
   {
    "duration": 37,
    "start_time": "2024-09-15T21:15:32.792Z"
   },
   {
    "duration": 3,
    "start_time": "2024-09-15T21:15:32.832Z"
   },
   {
    "duration": 3,
    "start_time": "2024-09-15T21:15:32.837Z"
   },
   {
    "duration": 9,
    "start_time": "2024-09-15T21:15:32.841Z"
   },
   {
    "duration": 8,
    "start_time": "2024-09-15T21:15:32.852Z"
   },
   {
    "duration": 29,
    "start_time": "2024-09-15T21:15:32.864Z"
   },
   {
    "duration": 4,
    "start_time": "2024-09-15T21:15:32.925Z"
   },
   {
    "duration": 75,
    "start_time": "2024-09-15T21:15:32.931Z"
   },
   {
    "duration": 35,
    "start_time": "2024-09-15T21:15:33.007Z"
   },
   {
    "duration": 19,
    "start_time": "2024-09-15T21:15:33.044Z"
   },
   {
    "duration": 4,
    "start_time": "2024-09-15T21:15:33.064Z"
   },
   {
    "duration": 4,
    "start_time": "2024-09-15T21:15:33.070Z"
   },
   {
    "duration": 181,
    "start_time": "2024-09-15T21:15:33.075Z"
   },
   {
    "duration": 135,
    "start_time": "2024-09-15T21:15:33.258Z"
   },
   {
    "duration": 152,
    "start_time": "2024-09-15T21:15:33.395Z"
   },
   {
    "duration": 6,
    "start_time": "2024-09-15T21:46:55.674Z"
   },
   {
    "duration": 7,
    "start_time": "2024-09-15T21:47:05.575Z"
   },
   {
    "duration": 9,
    "start_time": "2024-09-15T21:49:07.644Z"
   },
   {
    "duration": 10,
    "start_time": "2024-09-15T21:51:51.338Z"
   },
   {
    "duration": 154,
    "start_time": "2024-09-15T21:53:09.260Z"
   },
   {
    "duration": 444,
    "start_time": "2024-09-15T21:53:41.953Z"
   },
   {
    "duration": 1074,
    "start_time": "2024-09-15T21:53:42.400Z"
   },
   {
    "duration": 48,
    "start_time": "2024-09-15T21:53:43.476Z"
   },
   {
    "duration": 83,
    "start_time": "2024-09-15T21:53:43.526Z"
   },
   {
    "duration": 86,
    "start_time": "2024-09-15T21:53:43.624Z"
   },
   {
    "duration": 17,
    "start_time": "2024-09-15T21:53:43.711Z"
   },
   {
    "duration": 195,
    "start_time": "2024-09-15T21:53:43.730Z"
   },
   {
    "duration": 31,
    "start_time": "2024-09-15T21:53:43.927Z"
   },
   {
    "duration": 13,
    "start_time": "2024-09-15T21:53:43.960Z"
   },
   {
    "duration": 5,
    "start_time": "2024-09-15T21:53:43.975Z"
   },
   {
    "duration": 44,
    "start_time": "2024-09-15T21:53:43.982Z"
   },
   {
    "duration": 9,
    "start_time": "2024-09-15T21:53:44.028Z"
   },
   {
    "duration": 5,
    "start_time": "2024-09-15T21:53:44.039Z"
   },
   {
    "duration": 4,
    "start_time": "2024-09-15T21:53:44.048Z"
   },
   {
    "duration": 4,
    "start_time": "2024-09-15T21:53:44.053Z"
   },
   {
    "duration": 3,
    "start_time": "2024-09-15T21:53:44.059Z"
   },
   {
    "duration": 809,
    "start_time": "2024-09-15T21:53:44.064Z"
   },
   {
    "duration": 164,
    "start_time": "2024-09-15T21:53:44.875Z"
   },
   {
    "duration": 8,
    "start_time": "2024-09-15T21:53:45.041Z"
   },
   {
    "duration": 6,
    "start_time": "2024-09-15T21:53:45.051Z"
   },
   {
    "duration": 5,
    "start_time": "2024-09-15T21:53:45.059Z"
   },
   {
    "duration": 9,
    "start_time": "2024-09-15T21:53:45.066Z"
   },
   {
    "duration": 8,
    "start_time": "2024-09-15T21:53:45.076Z"
   },
   {
    "duration": 39,
    "start_time": "2024-09-15T21:53:45.086Z"
   },
   {
    "duration": 3,
    "start_time": "2024-09-15T21:53:45.127Z"
   },
   {
    "duration": 10,
    "start_time": "2024-09-15T21:53:45.131Z"
   },
   {
    "duration": 8,
    "start_time": "2024-09-15T21:53:45.142Z"
   },
   {
    "duration": 29,
    "start_time": "2024-09-15T21:53:45.152Z"
   },
   {
    "duration": 5,
    "start_time": "2024-09-15T21:53:45.183Z"
   },
   {
    "duration": 121,
    "start_time": "2024-09-15T21:53:45.190Z"
   },
   {
    "duration": 31,
    "start_time": "2024-09-15T21:53:45.313Z"
   },
   {
    "duration": 22,
    "start_time": "2024-09-15T21:53:45.345Z"
   },
   {
    "duration": 4,
    "start_time": "2024-09-15T21:53:45.368Z"
   },
   {
    "duration": 3,
    "start_time": "2024-09-15T21:53:45.374Z"
   },
   {
    "duration": 177,
    "start_time": "2024-09-15T21:53:45.379Z"
   },
   {
    "duration": 128,
    "start_time": "2024-09-15T21:53:45.558Z"
   },
   {
    "duration": 150,
    "start_time": "2024-09-15T21:53:45.688Z"
   },
   {
    "duration": 10,
    "start_time": "2024-09-15T21:53:45.839Z"
   },
   {
    "duration": 7,
    "start_time": "2024-09-15T21:54:01.388Z"
   },
   {
    "duration": 10,
    "start_time": "2024-09-15T21:55:30.609Z"
   },
   {
    "duration": 4,
    "start_time": "2024-09-15T21:59:20.016Z"
   },
   {
    "duration": 170,
    "start_time": "2024-09-15T21:59:28.902Z"
   },
   {
    "duration": 152,
    "start_time": "2024-09-15T23:53:14.433Z"
   },
   {
    "duration": 179,
    "start_time": "2024-09-15T23:55:51.593Z"
   },
   {
    "duration": 374,
    "start_time": "2024-09-16T00:02:46.778Z"
   },
   {
    "duration": 10,
    "start_time": "2024-09-16T00:07:20.198Z"
   },
   {
    "duration": 11,
    "start_time": "2024-09-16T00:07:42.465Z"
   },
   {
    "duration": 12,
    "start_time": "2024-09-16T00:08:49.699Z"
   },
   {
    "duration": 6,
    "start_time": "2024-09-16T00:13:18.620Z"
   },
   {
    "duration": 6,
    "start_time": "2024-09-16T00:13:32.615Z"
   },
   {
    "duration": 11,
    "start_time": "2024-09-16T00:14:20.539Z"
   },
   {
    "duration": 5,
    "start_time": "2024-09-16T00:14:35.409Z"
   },
   {
    "duration": 4,
    "start_time": "2024-09-16T00:14:48.926Z"
   },
   {
    "duration": 11,
    "start_time": "2024-09-16T00:15:13.170Z"
   },
   {
    "duration": 8,
    "start_time": "2024-09-16T00:15:19.951Z"
   },
   {
    "duration": 353,
    "start_time": "2024-09-16T00:17:01.196Z"
   },
   {
    "duration": 182,
    "start_time": "2024-09-16T00:17:27.704Z"
   },
   {
    "duration": 7,
    "start_time": "2024-09-16T00:20:18.604Z"
   },
   {
    "duration": 3,
    "start_time": "2024-09-16T00:20:31.844Z"
   },
   {
    "duration": 16,
    "start_time": "2024-09-16T00:20:37.139Z"
   },
   {
    "duration": 5,
    "start_time": "2024-09-16T00:21:43.107Z"
   },
   {
    "duration": 6,
    "start_time": "2024-09-16T00:22:31.798Z"
   },
   {
    "duration": 266,
    "start_time": "2024-09-16T00:22:50.930Z"
   },
   {
    "duration": 5,
    "start_time": "2024-09-16T00:25:42.507Z"
   },
   {
    "duration": 6,
    "start_time": "2024-09-16T00:25:52.326Z"
   },
   {
    "duration": 6,
    "start_time": "2024-09-16T00:26:21.250Z"
   },
   {
    "duration": 8,
    "start_time": "2024-09-16T00:28:44.685Z"
   },
   {
    "duration": 6,
    "start_time": "2024-09-16T00:29:26.665Z"
   },
   {
    "duration": 6,
    "start_time": "2024-09-16T00:29:58.477Z"
   },
   {
    "duration": 15,
    "start_time": "2024-09-16T00:31:15.563Z"
   },
   {
    "duration": 6,
    "start_time": "2024-09-16T00:31:52.147Z"
   },
   {
    "duration": 5,
    "start_time": "2024-09-16T00:32:18.335Z"
   },
   {
    "duration": 106,
    "start_time": "2024-09-16T00:32:23.842Z"
   },
   {
    "duration": 194,
    "start_time": "2024-09-16T00:33:06.256Z"
   },
   {
    "duration": 166,
    "start_time": "2024-09-16T00:34:34.376Z"
   },
   {
    "duration": 15,
    "start_time": "2024-09-16T00:35:31.520Z"
   },
   {
    "duration": 7,
    "start_time": "2024-09-16T00:36:55.301Z"
   },
   {
    "duration": 9,
    "start_time": "2024-09-16T00:37:57.536Z"
   },
   {
    "duration": 20,
    "start_time": "2024-09-16T00:39:49.427Z"
   },
   {
    "duration": 8,
    "start_time": "2024-09-16T00:40:09.416Z"
   },
   {
    "duration": 8,
    "start_time": "2024-09-16T00:40:31.968Z"
   },
   {
    "duration": 8,
    "start_time": "2024-09-16T00:41:43.037Z"
   },
   {
    "duration": 9,
    "start_time": "2024-09-16T00:42:04.484Z"
   },
   {
    "duration": 4,
    "start_time": "2024-09-16T00:42:20.857Z"
   },
   {
    "duration": 5,
    "start_time": "2024-09-16T00:42:45.483Z"
   },
   {
    "duration": 6,
    "start_time": "2024-09-16T01:07:29.525Z"
   },
   {
    "duration": 11,
    "start_time": "2024-09-16T01:07:36.477Z"
   },
   {
    "duration": 10,
    "start_time": "2024-09-16T01:08:05.924Z"
   },
   {
    "duration": 395,
    "start_time": "2024-09-16T01:25:35.070Z"
   },
   {
    "duration": 10,
    "start_time": "2024-09-16T01:25:53.618Z"
   },
   {
    "duration": 196,
    "start_time": "2024-09-16T01:27:07.114Z"
   },
   {
    "duration": 9,
    "start_time": "2024-09-16T01:29:40.481Z"
   },
   {
    "duration": 3,
    "start_time": "2024-09-16T01:31:34.172Z"
   },
   {
    "duration": 14,
    "start_time": "2024-09-16T01:32:19.021Z"
   },
   {
    "duration": 5,
    "start_time": "2024-09-16T01:32:27.444Z"
   },
   {
    "duration": 39,
    "start_time": "2024-09-16T01:33:02.928Z"
   },
   {
    "duration": 10,
    "start_time": "2024-09-16T01:33:33.208Z"
   },
   {
    "duration": 7,
    "start_time": "2024-09-16T01:33:43.731Z"
   },
   {
    "duration": 14,
    "start_time": "2024-09-16T01:36:45.410Z"
   },
   {
    "duration": 224,
    "start_time": "2024-09-16T01:36:53.765Z"
   },
   {
    "duration": 2119,
    "start_time": "2024-09-16T18:03:27.693Z"
   },
   {
    "duration": 1022,
    "start_time": "2024-09-16T18:03:29.814Z"
   },
   {
    "duration": 44,
    "start_time": "2024-09-16T18:03:30.837Z"
   },
   {
    "duration": 96,
    "start_time": "2024-09-16T18:03:30.883Z"
   },
   {
    "duration": 103,
    "start_time": "2024-09-16T18:03:30.981Z"
   },
   {
    "duration": 9,
    "start_time": "2024-09-16T18:03:31.088Z"
   },
   {
    "duration": 192,
    "start_time": "2024-09-16T18:03:31.099Z"
   },
   {
    "duration": 39,
    "start_time": "2024-09-16T18:03:31.293Z"
   },
   {
    "duration": 15,
    "start_time": "2024-09-16T18:03:31.333Z"
   },
   {
    "duration": 4,
    "start_time": "2024-09-16T18:03:31.350Z"
   },
   {
    "duration": 20,
    "start_time": "2024-09-16T18:03:31.355Z"
   },
   {
    "duration": 9,
    "start_time": "2024-09-16T18:03:31.377Z"
   },
   {
    "duration": 4,
    "start_time": "2024-09-16T18:03:31.387Z"
   },
   {
    "duration": 37,
    "start_time": "2024-09-16T18:03:31.395Z"
   },
   {
    "duration": 5,
    "start_time": "2024-09-16T18:03:31.434Z"
   },
   {
    "duration": 4,
    "start_time": "2024-09-16T18:03:31.441Z"
   },
   {
    "duration": 806,
    "start_time": "2024-09-16T18:03:31.447Z"
   },
   {
    "duration": 170,
    "start_time": "2024-09-16T18:03:32.255Z"
   },
   {
    "duration": 7,
    "start_time": "2024-09-16T18:03:32.431Z"
   },
   {
    "duration": 6,
    "start_time": "2024-09-16T18:03:32.440Z"
   },
   {
    "duration": 4,
    "start_time": "2024-09-16T18:03:32.448Z"
   },
   {
    "duration": 10,
    "start_time": "2024-09-16T18:03:32.453Z"
   },
   {
    "duration": 9,
    "start_time": "2024-09-16T18:03:32.464Z"
   },
   {
    "duration": 4,
    "start_time": "2024-09-16T18:03:32.474Z"
   },
   {
    "duration": 3,
    "start_time": "2024-09-16T18:03:32.480Z"
   },
   {
    "duration": 50,
    "start_time": "2024-09-16T18:03:32.485Z"
   },
   {
    "duration": 9,
    "start_time": "2024-09-16T18:03:32.537Z"
   },
   {
    "duration": 31,
    "start_time": "2024-09-16T18:03:32.549Z"
   },
   {
    "duration": 5,
    "start_time": "2024-09-16T18:03:32.582Z"
   },
   {
    "duration": 108,
    "start_time": "2024-09-16T18:03:32.589Z"
   },
   {
    "duration": 23,
    "start_time": "2024-09-16T18:03:32.698Z"
   },
   {
    "duration": 22,
    "start_time": "2024-09-16T18:03:32.731Z"
   },
   {
    "duration": 4,
    "start_time": "2024-09-16T18:03:32.755Z"
   },
   {
    "duration": 3,
    "start_time": "2024-09-16T18:03:32.761Z"
   },
   {
    "duration": 176,
    "start_time": "2024-09-16T18:03:32.766Z"
   },
   {
    "duration": 165,
    "start_time": "2024-09-16T18:03:32.944Z"
   },
   {
    "duration": 175,
    "start_time": "2024-09-16T18:03:33.111Z"
   },
   {
    "duration": 9,
    "start_time": "2024-09-16T18:03:33.289Z"
   },
   {
    "duration": 9,
    "start_time": "2024-09-16T18:03:33.299Z"
   },
   {
    "duration": 25,
    "start_time": "2024-09-16T18:03:33.309Z"
   },
   {
    "duration": 190,
    "start_time": "2024-09-16T18:03:33.338Z"
   },
   {
    "duration": 230,
    "start_time": "2024-09-16T18:04:46.897Z"
   },
   {
    "duration": 12,
    "start_time": "2024-09-16T18:48:15.702Z"
   },
   {
    "duration": 10,
    "start_time": "2024-09-16T18:48:22.307Z"
   },
   {
    "duration": 12,
    "start_time": "2024-09-16T18:53:22.018Z"
   },
   {
    "duration": 12,
    "start_time": "2024-09-16T18:53:25.977Z"
   },
   {
    "duration": 241,
    "start_time": "2024-09-16T18:59:18.042Z"
   },
   {
    "duration": 22,
    "start_time": "2024-09-16T18:59:26.160Z"
   },
   {
    "duration": 33,
    "start_time": "2024-09-16T19:00:26.154Z"
   },
   {
    "duration": 9,
    "start_time": "2024-09-16T19:43:13.754Z"
   },
   {
    "duration": 3,
    "start_time": "2024-09-16T19:48:25.423Z"
   },
   {
    "duration": 8,
    "start_time": "2024-09-16T19:48:32.615Z"
   },
   {
    "duration": 7,
    "start_time": "2024-09-16T19:49:38.914Z"
   },
   {
    "duration": 12,
    "start_time": "2024-09-16T19:50:22.557Z"
   },
   {
    "duration": 11,
    "start_time": "2024-09-16T19:50:33.918Z"
   },
   {
    "duration": 4,
    "start_time": "2024-09-16T19:53:08.030Z"
   },
   {
    "duration": 5,
    "start_time": "2024-09-16T19:53:23.526Z"
   },
   {
    "duration": 248,
    "start_time": "2024-09-16T19:59:47.091Z"
   },
   {
    "duration": 53,
    "start_time": "2024-09-16T20:02:36.111Z"
   },
   {
    "duration": 5,
    "start_time": "2024-09-16T20:04:05.116Z"
   },
   {
    "duration": 12,
    "start_time": "2024-09-16T20:06:29.428Z"
   },
   {
    "duration": 14,
    "start_time": "2024-09-16T20:06:45.018Z"
   },
   {
    "duration": 2,
    "start_time": "2024-09-16T20:07:02.590Z"
   },
   {
    "duration": 12,
    "start_time": "2024-09-16T20:07:09.658Z"
   },
   {
    "duration": 4,
    "start_time": "2024-09-16T20:07:12.515Z"
   },
   {
    "duration": 116,
    "start_time": "2024-09-16T20:07:45.998Z"
   },
   {
    "duration": 124,
    "start_time": "2024-09-16T20:10:05.017Z"
   },
   {
    "duration": 169,
    "start_time": "2024-09-16T20:11:48.161Z"
   },
   {
    "duration": 194,
    "start_time": "2024-09-16T20:12:31.685Z"
   },
   {
    "duration": 115,
    "start_time": "2024-09-16T20:15:08.904Z"
   },
   {
    "duration": 16,
    "start_time": "2024-09-16T20:21:14.133Z"
   },
   {
    "duration": 115,
    "start_time": "2024-09-16T20:23:08.275Z"
   },
   {
    "duration": 11,
    "start_time": "2024-09-16T20:23:25.792Z"
   },
   {
    "duration": 33,
    "start_time": "2024-09-16T20:34:01.559Z"
   },
   {
    "duration": 29,
    "start_time": "2024-09-16T20:34:25.642Z"
   },
   {
    "duration": 141,
    "start_time": "2024-09-16T20:35:08.183Z"
   },
   {
    "duration": 91,
    "start_time": "2024-09-16T20:37:26.163Z"
   },
   {
    "duration": 66,
    "start_time": "2024-09-16T20:38:47.751Z"
   },
   {
    "duration": 79,
    "start_time": "2024-09-16T20:54:20.444Z"
   },
   {
    "duration": 77,
    "start_time": "2024-09-16T20:55:29.012Z"
   },
   {
    "duration": 94,
    "start_time": "2024-09-16T20:55:37.624Z"
   },
   {
    "duration": 82,
    "start_time": "2024-09-16T21:00:34.215Z"
   },
   {
    "duration": 88,
    "start_time": "2024-09-16T21:01:52.307Z"
   },
   {
    "duration": 79,
    "start_time": "2024-09-16T21:01:59.791Z"
   },
   {
    "duration": 88,
    "start_time": "2024-09-16T21:04:20.324Z"
   },
   {
    "duration": 14,
    "start_time": "2024-09-16T21:08:36.376Z"
   },
   {
    "duration": 11,
    "start_time": "2024-09-16T21:09:05.228Z"
   },
   {
    "duration": 84,
    "start_time": "2024-09-16T21:09:30.948Z"
   },
   {
    "duration": 80,
    "start_time": "2024-09-16T21:09:40.089Z"
   },
   {
    "duration": 78,
    "start_time": "2024-09-16T21:11:36.458Z"
   },
   {
    "duration": 89,
    "start_time": "2024-09-16T21:11:47.538Z"
   },
   {
    "duration": 85,
    "start_time": "2024-09-16T21:12:06.715Z"
   },
   {
    "duration": 22,
    "start_time": "2024-09-16T21:13:02.373Z"
   },
   {
    "duration": 9,
    "start_time": "2024-09-16T21:13:50.781Z"
   },
   {
    "duration": 7,
    "start_time": "2024-09-16T21:13:58.471Z"
   },
   {
    "duration": 10,
    "start_time": "2024-09-16T21:17:28.447Z"
   },
   {
    "duration": 4,
    "start_time": "2024-09-16T21:17:31.373Z"
   },
   {
    "duration": 8,
    "start_time": "2024-09-16T21:17:55.502Z"
   },
   {
    "duration": 7,
    "start_time": "2024-09-16T21:17:56.219Z"
   },
   {
    "duration": 27,
    "start_time": "2024-09-16T21:25:54.036Z"
   },
   {
    "duration": 4,
    "start_time": "2024-09-16T21:26:16.727Z"
   },
   {
    "duration": 8,
    "start_time": "2024-09-16T21:26:31.675Z"
   },
   {
    "duration": 13,
    "start_time": "2024-09-16T21:26:56.011Z"
   },
   {
    "duration": 93,
    "start_time": "2024-09-16T21:31:48.684Z"
   },
   {
    "duration": 32,
    "start_time": "2024-09-16T21:42:41.222Z"
   },
   {
    "duration": 327,
    "start_time": "2024-09-16T21:42:59.198Z"
   },
   {
    "duration": 5,
    "start_time": "2024-09-16T21:44:40.506Z"
   },
   {
    "duration": 4,
    "start_time": "2024-09-16T21:45:07.415Z"
   },
   {
    "duration": 306,
    "start_time": "2024-09-16T21:50:38.790Z"
   },
   {
    "duration": 125,
    "start_time": "2024-09-16T21:51:48.403Z"
   },
   {
    "duration": 6,
    "start_time": "2024-09-16T21:53:10.936Z"
   },
   {
    "duration": 127,
    "start_time": "2024-09-16T21:53:15.831Z"
   },
   {
    "duration": 125,
    "start_time": "2024-09-16T21:55:02.831Z"
   },
   {
    "duration": 124,
    "start_time": "2024-09-16T21:55:14.768Z"
   },
   {
    "duration": 325,
    "start_time": "2024-09-16T21:57:36.922Z"
   },
   {
    "duration": 146,
    "start_time": "2024-09-16T22:15:35.197Z"
   },
   {
    "duration": 137,
    "start_time": "2024-09-16T22:15:42.496Z"
   },
   {
    "duration": 403,
    "start_time": "2024-09-16T22:39:34.356Z"
   },
   {
    "duration": 462,
    "start_time": "2024-09-16T22:41:01.294Z"
   },
   {
    "duration": 380,
    "start_time": "2024-09-16T22:41:14.613Z"
   },
   {
    "duration": 380,
    "start_time": "2024-09-16T22:43:11.456Z"
   },
   {
    "duration": 370,
    "start_time": "2024-09-16T22:43:42.282Z"
   },
   {
    "duration": 527,
    "start_time": "2024-09-16T22:43:52.002Z"
   },
   {
    "duration": 328,
    "start_time": "2024-09-16T22:44:33.286Z"
   },
   {
    "duration": 379,
    "start_time": "2024-09-16T22:46:31.214Z"
   },
   {
    "duration": 5,
    "start_time": "2024-09-16T22:51:26.477Z"
   },
   {
    "duration": 9,
    "start_time": "2024-09-16T22:51:35.556Z"
   },
   {
    "duration": 9,
    "start_time": "2024-09-16T22:54:24.491Z"
   },
   {
    "duration": 75,
    "start_time": "2024-09-16T23:06:03.520Z"
   },
   {
    "duration": 74,
    "start_time": "2024-09-16T23:06:15.292Z"
   },
   {
    "duration": 46,
    "start_time": "2024-09-16T23:07:18.561Z"
   },
   {
    "duration": 55,
    "start_time": "2024-09-16T23:07:35.162Z"
   },
   {
    "duration": 5,
    "start_time": "2024-09-16T23:08:30.652Z"
   },
   {
    "duration": 4,
    "start_time": "2024-09-16T23:08:49.281Z"
   },
   {
    "duration": 6,
    "start_time": "2024-09-16T23:08:57.395Z"
   },
   {
    "duration": 14,
    "start_time": "2024-09-16T23:13:16.470Z"
   },
   {
    "duration": 12,
    "start_time": "2024-09-16T23:13:34.886Z"
   },
   {
    "duration": 13,
    "start_time": "2024-09-16T23:17:21.168Z"
   },
   {
    "duration": 40,
    "start_time": "2024-09-16T23:26:09.326Z"
   },
   {
    "duration": 2192,
    "start_time": "2024-09-18T15:06:25.403Z"
   },
   {
    "duration": 1040,
    "start_time": "2024-09-18T15:06:27.597Z"
   },
   {
    "duration": 55,
    "start_time": "2024-09-18T15:06:28.638Z"
   },
   {
    "duration": 92,
    "start_time": "2024-09-18T15:06:28.695Z"
   },
   {
    "duration": 88,
    "start_time": "2024-09-18T15:06:28.789Z"
   },
   {
    "duration": 8,
    "start_time": "2024-09-18T15:06:28.886Z"
   },
   {
    "duration": 186,
    "start_time": "2024-09-18T15:06:28.895Z"
   },
   {
    "duration": 30,
    "start_time": "2024-09-18T15:06:29.087Z"
   },
   {
    "duration": 12,
    "start_time": "2024-09-18T15:06:29.119Z"
   },
   {
    "duration": 4,
    "start_time": "2024-09-18T15:06:29.133Z"
   },
   {
    "duration": 48,
    "start_time": "2024-09-18T15:06:29.139Z"
   },
   {
    "duration": 8,
    "start_time": "2024-09-18T15:06:29.189Z"
   },
   {
    "duration": 4,
    "start_time": "2024-09-18T15:06:29.199Z"
   },
   {
    "duration": 3,
    "start_time": "2024-09-18T15:06:29.208Z"
   },
   {
    "duration": 4,
    "start_time": "2024-09-18T15:06:29.214Z"
   },
   {
    "duration": 3,
    "start_time": "2024-09-18T15:06:29.220Z"
   },
   {
    "duration": 839,
    "start_time": "2024-09-18T15:06:29.225Z"
   },
   {
    "duration": 191,
    "start_time": "2024-09-18T15:06:30.066Z"
   },
   {
    "duration": 8,
    "start_time": "2024-09-18T15:06:30.259Z"
   },
   {
    "duration": 21,
    "start_time": "2024-09-18T15:06:30.268Z"
   },
   {
    "duration": 5,
    "start_time": "2024-09-18T15:06:30.291Z"
   },
   {
    "duration": 9,
    "start_time": "2024-09-18T15:06:30.298Z"
   },
   {
    "duration": 8,
    "start_time": "2024-09-18T15:06:30.309Z"
   },
   {
    "duration": 4,
    "start_time": "2024-09-18T15:06:30.320Z"
   },
   {
    "duration": 4,
    "start_time": "2024-09-18T15:06:30.325Z"
   },
   {
    "duration": 9,
    "start_time": "2024-09-18T15:06:30.331Z"
   },
   {
    "duration": 45,
    "start_time": "2024-09-18T15:06:30.342Z"
   },
   {
    "duration": 33,
    "start_time": "2024-09-18T15:06:30.389Z"
   },
   {
    "duration": 5,
    "start_time": "2024-09-18T15:06:30.424Z"
   },
   {
    "duration": 107,
    "start_time": "2024-09-18T15:06:30.431Z"
   },
   {
    "duration": 23,
    "start_time": "2024-09-18T15:06:30.540Z"
   },
   {
    "duration": 35,
    "start_time": "2024-09-18T15:06:30.564Z"
   },
   {
    "duration": 3,
    "start_time": "2024-09-18T15:06:30.601Z"
   },
   {
    "duration": 4,
    "start_time": "2024-09-18T15:06:30.606Z"
   },
   {
    "duration": 176,
    "start_time": "2024-09-18T15:06:30.612Z"
   },
   {
    "duration": 131,
    "start_time": "2024-09-18T15:06:30.790Z"
   },
   {
    "duration": 155,
    "start_time": "2024-09-18T15:06:30.923Z"
   },
   {
    "duration": 12,
    "start_time": "2024-09-18T15:06:31.080Z"
   },
   {
    "duration": 9,
    "start_time": "2024-09-18T15:06:31.094Z"
   },
   {
    "duration": 8,
    "start_time": "2024-09-18T15:06:31.105Z"
   },
   {
    "duration": 239,
    "start_time": "2024-09-18T15:06:31.117Z"
   },
   {
    "duration": 55,
    "start_time": "2024-09-18T15:06:31.358Z"
   },
   {
    "duration": 144,
    "start_time": "2024-09-18T15:06:31.415Z"
   },
   {
    "duration": 97,
    "start_time": "2024-09-18T15:06:31.561Z"
   },
   {
    "duration": 379,
    "start_time": "2024-09-18T15:06:31.660Z"
   },
   {
    "duration": 9,
    "start_time": "2024-09-18T15:06:32.041Z"
   },
   {
    "duration": 358,
    "start_time": "2024-09-18T15:06:32.052Z"
   },
   {
    "duration": 63,
    "start_time": "2024-09-18T15:06:32.412Z"
   },
   {
    "duration": 47,
    "start_time": "2024-09-18T15:06:32.486Z"
   },
   {
    "duration": 13,
    "start_time": "2024-09-18T15:06:32.534Z"
   },
   {
    "duration": 26,
    "start_time": "2024-09-18T15:16:10.946Z"
   },
   {
    "duration": 51,
    "start_time": "2024-09-18T15:16:16.268Z"
   },
   {
    "duration": 196,
    "start_time": "2024-09-18T15:17:03.934Z"
   },
   {
    "duration": 7,
    "start_time": "2024-09-18T15:17:08.413Z"
   },
   {
    "duration": 60,
    "start_time": "2024-09-18T15:19:10.163Z"
   },
   {
    "duration": 60,
    "start_time": "2024-09-18T15:19:14.176Z"
   },
   {
    "duration": 832,
    "start_time": "2024-09-18T15:21:31.418Z"
   },
   {
    "duration": 828,
    "start_time": "2024-09-18T15:21:44.047Z"
   },
   {
    "duration": 824,
    "start_time": "2024-09-18T15:21:49.019Z"
   },
   {
    "duration": 54,
    "start_time": "2024-09-18T15:24:19.848Z"
   },
   {
    "duration": 62,
    "start_time": "2024-09-18T15:27:29.889Z"
   },
   {
    "duration": 61,
    "start_time": "2024-09-18T15:27:36.216Z"
   },
   {
    "duration": 8,
    "start_time": "2024-09-18T15:27:51.761Z"
   },
   {
    "duration": 76,
    "start_time": "2024-09-18T15:30:26.052Z"
   },
   {
    "duration": 65,
    "start_time": "2024-09-18T15:30:44.980Z"
   },
   {
    "duration": 75,
    "start_time": "2024-09-18T15:33:26.090Z"
   },
   {
    "duration": 51,
    "start_time": "2024-09-18T15:38:57.346Z"
   },
   {
    "duration": 18,
    "start_time": "2024-09-18T15:39:59.682Z"
   },
   {
    "duration": 9,
    "start_time": "2024-09-18T15:40:05.112Z"
   },
   {
    "duration": 14,
    "start_time": "2024-09-18T15:43:22.292Z"
   },
   {
    "duration": 850,
    "start_time": "2024-09-18T15:43:26.864Z"
   },
   {
    "duration": 8,
    "start_time": "2024-09-18T15:43:28.927Z"
   },
   {
    "duration": 20,
    "start_time": "2024-09-18T15:44:19.377Z"
   },
   {
    "duration": 843,
    "start_time": "2024-09-18T15:44:26.336Z"
   },
   {
    "duration": 21,
    "start_time": "2024-09-18T15:44:29.751Z"
   },
   {
    "duration": 11,
    "start_time": "2024-09-18T16:01:34.431Z"
   },
   {
    "duration": 1983,
    "start_time": "2024-09-18T16:01:37.943Z"
   },
   {
    "duration": 88,
    "start_time": "2024-09-18T16:01:53.607Z"
   },
   {
    "duration": 82,
    "start_time": "2024-09-18T16:04:19.609Z"
   },
   {
    "duration": 7,
    "start_time": "2024-09-18T16:04:26.009Z"
   },
   {
    "duration": 81,
    "start_time": "2024-09-18T16:04:32.861Z"
   },
   {
    "duration": 89,
    "start_time": "2024-09-18T16:05:46.874Z"
   },
   {
    "duration": 8,
    "start_time": "2024-09-18T16:08:34.366Z"
   },
   {
    "duration": 63,
    "start_time": "2024-09-18T16:16:36.626Z"
   },
   {
    "duration": 64,
    "start_time": "2024-09-18T16:18:43.272Z"
   },
   {
    "duration": 752,
    "start_time": "2024-09-18T17:18:03.114Z"
   },
   {
    "duration": 63,
    "start_time": "2024-09-18T17:21:33.530Z"
   },
   {
    "duration": 91,
    "start_time": "2024-09-18T17:21:45.182Z"
   },
   {
    "duration": 7,
    "start_time": "2024-09-18T17:24:23.654Z"
   },
   {
    "duration": 71,
    "start_time": "2024-09-18T17:24:32.256Z"
   },
   {
    "duration": 96,
    "start_time": "2024-09-18T17:28:29.155Z"
   },
   {
    "duration": 75,
    "start_time": "2024-09-18T17:31:40.089Z"
   },
   {
    "duration": 64,
    "start_time": "2024-09-18T17:32:03.691Z"
   },
   {
    "duration": 80,
    "start_time": "2024-09-18T17:34:41.975Z"
   },
   {
    "duration": 74,
    "start_time": "2024-09-18T17:35:28.311Z"
   },
   {
    "duration": 79,
    "start_time": "2024-09-18T17:35:59.472Z"
   },
   {
    "duration": 13,
    "start_time": "2024-09-18T17:43:47.884Z"
   },
   {
    "duration": 638,
    "start_time": "2024-09-18T17:43:53.844Z"
   },
   {
    "duration": 10,
    "start_time": "2024-09-18T17:43:59.464Z"
   },
   {
    "duration": 23,
    "start_time": "2024-09-18T17:45:25.843Z"
   },
   {
    "duration": 609,
    "start_time": "2024-09-18T17:45:32.716Z"
   },
   {
    "duration": 623,
    "start_time": "2024-09-18T17:45:39.418Z"
   },
   {
    "duration": 5,
    "start_time": "2024-09-18T17:45:43.654Z"
   },
   {
    "duration": 607,
    "start_time": "2024-09-18T17:45:56.398Z"
   },
   {
    "duration": 11,
    "start_time": "2024-09-18T17:45:57.102Z"
   },
   {
    "duration": 1050,
    "start_time": "2024-09-18T17:46:46.697Z"
   },
   {
    "duration": 0,
    "start_time": "2024-09-18T17:46:47.748Z"
   },
   {
    "duration": 746,
    "start_time": "2024-09-18T17:47:14.289Z"
   },
   {
    "duration": 7,
    "start_time": "2024-09-18T17:47:15.879Z"
   },
   {
    "duration": 4,
    "start_time": "2024-09-18T18:07:09.282Z"
   },
   {
    "duration": 13,
    "start_time": "2024-09-18T18:11:12.076Z"
   },
   {
    "duration": 100,
    "start_time": "2024-09-18T18:11:22.027Z"
   },
   {
    "duration": 703,
    "start_time": "2024-09-18T18:13:04.856Z"
   },
   {
    "duration": 712,
    "start_time": "2024-09-18T18:13:17.541Z"
   },
   {
    "duration": 101,
    "start_time": "2024-09-18T18:22:04.666Z"
   },
   {
    "duration": 3,
    "start_time": "2024-09-18T18:25:08.528Z"
   },
   {
    "duration": 3,
    "start_time": "2024-09-18T18:25:18.859Z"
   },
   {
    "duration": 94,
    "start_time": "2024-09-18T18:25:32.993Z"
   },
   {
    "duration": 3,
    "start_time": "2024-09-18T18:26:16.016Z"
   },
   {
    "duration": 92,
    "start_time": "2024-09-18T18:26:21.172Z"
   },
   {
    "duration": 108,
    "start_time": "2024-09-18T18:27:33.942Z"
   },
   {
    "duration": 40,
    "start_time": "2024-09-18T18:29:03.452Z"
   },
   {
    "duration": 10,
    "start_time": "2024-09-18T18:29:33.221Z"
   },
   {
    "duration": 6,
    "start_time": "2024-09-18T18:30:53.958Z"
   },
   {
    "duration": 92,
    "start_time": "2024-09-18T18:31:06.597Z"
   },
   {
    "duration": 38,
    "start_time": "2024-09-18T18:36:03.603Z"
   },
   {
    "duration": 93,
    "start_time": "2024-09-18T18:39:10.217Z"
   },
   {
    "duration": 111,
    "start_time": "2024-09-18T18:39:47.208Z"
   },
   {
    "duration": 119,
    "start_time": "2024-09-18T18:43:41.840Z"
   },
   {
    "duration": 116,
    "start_time": "2024-09-18T21:15:58.886Z"
   },
   {
    "duration": 5,
    "start_time": "2024-09-18T21:16:56.738Z"
   },
   {
    "duration": 102,
    "start_time": "2024-09-18T21:17:38.784Z"
   },
   {
    "duration": 653,
    "start_time": "2024-09-18T21:21:56.648Z"
   },
   {
    "duration": 157,
    "start_time": "2024-09-18T21:23:08.780Z"
   },
   {
    "duration": 104,
    "start_time": "2024-09-18T21:23:20.349Z"
   },
   {
    "duration": 109,
    "start_time": "2024-09-18T21:24:03.209Z"
   },
   {
    "duration": 111,
    "start_time": "2024-09-18T21:25:09.095Z"
   },
   {
    "duration": 490,
    "start_time": "2024-09-18T21:31:21.105Z"
   },
   {
    "duration": 915,
    "start_time": "2024-09-18T21:31:21.597Z"
   },
   {
    "duration": 47,
    "start_time": "2024-09-18T21:31:22.513Z"
   },
   {
    "duration": 111,
    "start_time": "2024-09-18T21:31:22.563Z"
   },
   {
    "duration": 91,
    "start_time": "2024-09-18T21:31:22.676Z"
   },
   {
    "duration": 7,
    "start_time": "2024-09-18T21:31:22.770Z"
   },
   {
    "duration": 197,
    "start_time": "2024-09-18T21:31:22.778Z"
   },
   {
    "duration": 33,
    "start_time": "2024-09-18T21:31:22.976Z"
   },
   {
    "duration": 13,
    "start_time": "2024-09-18T21:31:23.011Z"
   },
   {
    "duration": 4,
    "start_time": "2024-09-18T21:31:23.028Z"
   },
   {
    "duration": 42,
    "start_time": "2024-09-18T21:31:23.034Z"
   },
   {
    "duration": 12,
    "start_time": "2024-09-18T21:31:23.078Z"
   },
   {
    "duration": 4,
    "start_time": "2024-09-18T21:31:23.092Z"
   },
   {
    "duration": 6,
    "start_time": "2024-09-18T21:31:23.098Z"
   },
   {
    "duration": 5,
    "start_time": "2024-09-18T21:31:23.105Z"
   },
   {
    "duration": 3,
    "start_time": "2024-09-18T21:31:23.112Z"
   },
   {
    "duration": 840,
    "start_time": "2024-09-18T21:31:23.117Z"
   },
   {
    "duration": 202,
    "start_time": "2024-09-18T21:31:23.958Z"
   },
   {
    "duration": 8,
    "start_time": "2024-09-18T21:31:24.161Z"
   },
   {
    "duration": 19,
    "start_time": "2024-09-18T21:31:24.170Z"
   },
   {
    "duration": 5,
    "start_time": "2024-09-18T21:31:24.190Z"
   },
   {
    "duration": 21,
    "start_time": "2024-09-18T21:31:24.197Z"
   },
   {
    "duration": 9,
    "start_time": "2024-09-18T21:31:24.220Z"
   },
   {
    "duration": 4,
    "start_time": "2024-09-18T21:31:24.231Z"
   },
   {
    "duration": 3,
    "start_time": "2024-09-18T21:31:24.236Z"
   },
   {
    "duration": 10,
    "start_time": "2024-09-18T21:31:24.241Z"
   },
   {
    "duration": 41,
    "start_time": "2024-09-18T21:31:24.253Z"
   },
   {
    "duration": 37,
    "start_time": "2024-09-18T21:31:24.298Z"
   },
   {
    "duration": 6,
    "start_time": "2024-09-18T21:31:24.337Z"
   },
   {
    "duration": 99,
    "start_time": "2024-09-18T21:31:24.348Z"
   },
   {
    "duration": 26,
    "start_time": "2024-09-18T21:31:24.449Z"
   },
   {
    "duration": 27,
    "start_time": "2024-09-18T21:31:24.478Z"
   },
   {
    "duration": 7,
    "start_time": "2024-09-18T21:31:24.507Z"
   },
   {
    "duration": 4,
    "start_time": "2024-09-18T21:31:24.516Z"
   },
   {
    "duration": 216,
    "start_time": "2024-09-18T21:31:24.523Z"
   },
   {
    "duration": 154,
    "start_time": "2024-09-18T21:31:24.741Z"
   },
   {
    "duration": 184,
    "start_time": "2024-09-18T21:31:24.896Z"
   },
   {
    "duration": 10,
    "start_time": "2024-09-18T21:31:25.086Z"
   },
   {
    "duration": 10,
    "start_time": "2024-09-18T21:31:25.097Z"
   },
   {
    "duration": 8,
    "start_time": "2024-09-18T21:31:25.109Z"
   },
   {
    "duration": 295,
    "start_time": "2024-09-18T21:31:25.119Z"
   },
   {
    "duration": 49,
    "start_time": "2024-09-18T21:31:25.416Z"
   },
   {
    "duration": 129,
    "start_time": "2024-09-18T21:31:25.467Z"
   },
   {
    "duration": 109,
    "start_time": "2024-09-18T21:31:25.598Z"
   },
   {
    "duration": 447,
    "start_time": "2024-09-18T21:31:25.709Z"
   },
   {
    "duration": 11,
    "start_time": "2024-09-18T21:31:26.158Z"
   },
   {
    "duration": 321,
    "start_time": "2024-09-18T21:31:26.170Z"
   },
   {
    "duration": 78,
    "start_time": "2024-09-18T21:31:26.493Z"
   },
   {
    "duration": 57,
    "start_time": "2024-09-18T21:31:26.573Z"
   },
   {
    "duration": 14,
    "start_time": "2024-09-18T21:31:26.632Z"
   },
   {
    "duration": 103,
    "start_time": "2024-09-18T21:31:26.648Z"
   },
   {
    "duration": 177,
    "start_time": "2024-09-18T21:31:26.753Z"
   },
   {
    "duration": 811,
    "start_time": "2024-09-18T21:31:26.932Z"
   },
   {
    "duration": 133,
    "start_time": "2024-09-18T21:31:27.745Z"
   },
   {
    "duration": 117,
    "start_time": "2024-09-18T21:31:27.880Z"
   },
   {
    "duration": 38,
    "start_time": "2024-09-18T21:40:50.189Z"
   },
   {
    "duration": 7,
    "start_time": "2024-09-19T07:06:15.926Z"
   },
   {
    "duration": 3,
    "start_time": "2024-09-19T07:06:57.542Z"
   },
   {
    "duration": 4,
    "start_time": "2024-09-19T07:11:19.166Z"
   },
   {
    "duration": 2194,
    "start_time": "2024-09-19T19:28:54.549Z"
   },
   {
    "duration": 1067,
    "start_time": "2024-09-19T19:28:56.745Z"
   },
   {
    "duration": 46,
    "start_time": "2024-09-19T19:28:57.814Z"
   },
   {
    "duration": 103,
    "start_time": "2024-09-19T19:28:57.863Z"
   },
   {
    "duration": 96,
    "start_time": "2024-09-19T19:28:57.969Z"
   },
   {
    "duration": 6,
    "start_time": "2024-09-19T19:28:58.067Z"
   },
   {
    "duration": 182,
    "start_time": "2024-09-19T19:28:58.075Z"
   },
   {
    "duration": 30,
    "start_time": "2024-09-19T19:28:58.258Z"
   },
   {
    "duration": 24,
    "start_time": "2024-09-19T19:28:58.290Z"
   },
   {
    "duration": 5,
    "start_time": "2024-09-19T19:28:58.315Z"
   },
   {
    "duration": 20,
    "start_time": "2024-09-19T19:28:58.321Z"
   },
   {
    "duration": 7,
    "start_time": "2024-09-19T19:28:58.343Z"
   },
   {
    "duration": 4,
    "start_time": "2024-09-19T19:28:58.351Z"
   },
   {
    "duration": 3,
    "start_time": "2024-09-19T19:28:58.359Z"
   },
   {
    "duration": 4,
    "start_time": "2024-09-19T19:28:58.364Z"
   },
   {
    "duration": 42,
    "start_time": "2024-09-19T19:28:58.369Z"
   },
   {
    "duration": 791,
    "start_time": "2024-09-19T19:28:58.413Z"
   },
   {
    "duration": 222,
    "start_time": "2024-09-19T19:28:59.206Z"
   },
   {
    "duration": 7,
    "start_time": "2024-09-19T19:28:59.430Z"
   },
   {
    "duration": 6,
    "start_time": "2024-09-19T19:28:59.438Z"
   },
   {
    "duration": 4,
    "start_time": "2024-09-19T19:28:59.446Z"
   },
   {
    "duration": 9,
    "start_time": "2024-09-19T19:28:59.452Z"
   },
   {
    "duration": 8,
    "start_time": "2024-09-19T19:28:59.462Z"
   },
   {
    "duration": 4,
    "start_time": "2024-09-19T19:28:59.472Z"
   },
   {
    "duration": 4,
    "start_time": "2024-09-19T19:28:59.513Z"
   },
   {
    "duration": 9,
    "start_time": "2024-09-19T19:28:59.518Z"
   },
   {
    "duration": 8,
    "start_time": "2024-09-19T19:28:59.528Z"
   },
   {
    "duration": 28,
    "start_time": "2024-09-19T19:28:59.538Z"
   },
   {
    "duration": 4,
    "start_time": "2024-09-19T19:28:59.569Z"
   },
   {
    "duration": 76,
    "start_time": "2024-09-19T19:28:59.611Z"
   },
   {
    "duration": 33,
    "start_time": "2024-09-19T19:28:59.689Z"
   },
   {
    "duration": 20,
    "start_time": "2024-09-19T19:28:59.724Z"
   },
   {
    "duration": 3,
    "start_time": "2024-09-19T19:28:59.746Z"
   },
   {
    "duration": 4,
    "start_time": "2024-09-19T19:28:59.751Z"
   },
   {
    "duration": 222,
    "start_time": "2024-09-19T19:28:59.756Z"
   },
   {
    "duration": 133,
    "start_time": "2024-09-19T19:28:59.980Z"
   },
   {
    "duration": 152,
    "start_time": "2024-09-19T19:29:00.115Z"
   },
   {
    "duration": 9,
    "start_time": "2024-09-19T19:29:00.269Z"
   },
   {
    "duration": 9,
    "start_time": "2024-09-19T19:29:00.280Z"
   },
   {
    "duration": 27,
    "start_time": "2024-09-19T19:29:00.291Z"
   },
   {
    "duration": 224,
    "start_time": "2024-09-19T19:29:00.322Z"
   },
   {
    "duration": 49,
    "start_time": "2024-09-19T19:29:00.547Z"
   },
   {
    "duration": 130,
    "start_time": "2024-09-19T19:29:00.598Z"
   },
   {
    "duration": 93,
    "start_time": "2024-09-19T19:29:00.729Z"
   },
   {
    "duration": 387,
    "start_time": "2024-09-19T19:29:00.825Z"
   },
   {
    "duration": 9,
    "start_time": "2024-09-19T19:29:01.214Z"
   },
   {
    "duration": 299,
    "start_time": "2024-09-19T19:29:01.225Z"
   },
   {
    "duration": 61,
    "start_time": "2024-09-19T19:29:01.526Z"
   },
   {
    "duration": 59,
    "start_time": "2024-09-19T19:29:01.588Z"
   },
   {
    "duration": 12,
    "start_time": "2024-09-19T19:29:01.649Z"
   },
   {
    "duration": 98,
    "start_time": "2024-09-19T19:29:01.663Z"
   },
   {
    "duration": 104,
    "start_time": "2024-09-19T19:29:01.762Z"
   },
   {
    "duration": 748,
    "start_time": "2024-09-19T19:29:01.868Z"
   },
   {
    "duration": 120,
    "start_time": "2024-09-19T19:29:02.618Z"
   },
   {
    "duration": 5,
    "start_time": "2024-09-19T19:29:20.733Z"
   },
   {
    "duration": 871,
    "start_time": "2024-09-19T19:41:31.931Z"
   },
   {
    "duration": 139,
    "start_time": "2024-09-19T19:42:23.907Z"
   },
   {
    "duration": 136,
    "start_time": "2024-09-19T19:47:05.461Z"
   },
   {
    "duration": 161,
    "start_time": "2024-09-19T19:49:11.098Z"
   },
   {
    "duration": 171,
    "start_time": "2024-09-19T19:50:33.558Z"
   },
   {
    "duration": 165,
    "start_time": "2024-09-19T19:50:52.148Z"
   },
   {
    "duration": 177,
    "start_time": "2024-09-19T19:51:53.278Z"
   },
   {
    "duration": 178,
    "start_time": "2024-09-19T19:52:08.489Z"
   },
   {
    "duration": 180,
    "start_time": "2024-09-19T19:53:49.136Z"
   },
   {
    "duration": 212,
    "start_time": "2024-09-19T19:55:48.005Z"
   },
   {
    "duration": 116,
    "start_time": "2024-09-19T19:56:46.815Z"
   },
   {
    "duration": 175,
    "start_time": "2024-09-19T19:57:00.864Z"
   },
   {
    "duration": 194,
    "start_time": "2024-09-19T20:06:02.898Z"
   },
   {
    "duration": 318,
    "start_time": "2024-09-19T20:14:28.174Z"
   },
   {
    "duration": 147,
    "start_time": "2024-09-19T20:14:51.415Z"
   },
   {
    "duration": 195,
    "start_time": "2024-09-19T20:23:07.327Z"
   },
   {
    "duration": 184,
    "start_time": "2024-09-19T20:24:19.994Z"
   },
   {
    "duration": 195,
    "start_time": "2024-09-19T20:27:27.698Z"
   },
   {
    "duration": 15,
    "start_time": "2024-09-19T20:31:53.643Z"
   },
   {
    "duration": 430,
    "start_time": "2024-09-19T20:32:24.983Z"
   },
   {
    "duration": 909,
    "start_time": "2024-09-19T20:32:25.415Z"
   },
   {
    "duration": 45,
    "start_time": "2024-09-19T20:32:26.325Z"
   },
   {
    "duration": 96,
    "start_time": "2024-09-19T20:32:26.373Z"
   },
   {
    "duration": 106,
    "start_time": "2024-09-19T20:32:26.472Z"
   },
   {
    "duration": 7,
    "start_time": "2024-09-19T20:32:26.579Z"
   },
   {
    "duration": 187,
    "start_time": "2024-09-19T20:32:26.587Z"
   },
   {
    "duration": 38,
    "start_time": "2024-09-19T20:32:26.776Z"
   },
   {
    "duration": 12,
    "start_time": "2024-09-19T20:32:26.816Z"
   },
   {
    "duration": 6,
    "start_time": "2024-09-19T20:32:26.829Z"
   },
   {
    "duration": 20,
    "start_time": "2024-09-19T20:32:26.836Z"
   },
   {
    "duration": 7,
    "start_time": "2024-09-19T20:32:26.858Z"
   },
   {
    "duration": 5,
    "start_time": "2024-09-19T20:32:26.867Z"
   },
   {
    "duration": 3,
    "start_time": "2024-09-19T20:32:26.876Z"
   },
   {
    "duration": 5,
    "start_time": "2024-09-19T20:32:26.912Z"
   },
   {
    "duration": 4,
    "start_time": "2024-09-19T20:32:26.919Z"
   },
   {
    "duration": 757,
    "start_time": "2024-09-19T20:32:26.924Z"
   },
   {
    "duration": 228,
    "start_time": "2024-09-19T20:32:27.683Z"
   },
   {
    "duration": 8,
    "start_time": "2024-09-19T20:32:27.912Z"
   },
   {
    "duration": 7,
    "start_time": "2024-09-19T20:32:27.921Z"
   },
   {
    "duration": 5,
    "start_time": "2024-09-19T20:32:27.930Z"
   },
   {
    "duration": 9,
    "start_time": "2024-09-19T20:32:27.936Z"
   },
   {
    "duration": 8,
    "start_time": "2024-09-19T20:32:27.947Z"
   },
   {
    "duration": 4,
    "start_time": "2024-09-19T20:32:27.956Z"
   },
   {
    "duration": 3,
    "start_time": "2024-09-19T20:32:27.962Z"
   },
   {
    "duration": 51,
    "start_time": "2024-09-19T20:32:27.967Z"
   },
   {
    "duration": 11,
    "start_time": "2024-09-19T20:32:28.020Z"
   },
   {
    "duration": 31,
    "start_time": "2024-09-19T20:32:28.033Z"
   },
   {
    "duration": 5,
    "start_time": "2024-09-19T20:32:28.065Z"
   },
   {
    "duration": 105,
    "start_time": "2024-09-19T20:32:28.072Z"
   },
   {
    "duration": 33,
    "start_time": "2024-09-19T20:32:28.178Z"
   },
   {
    "duration": 23,
    "start_time": "2024-09-19T20:32:28.214Z"
   },
   {
    "duration": 4,
    "start_time": "2024-09-19T20:32:28.238Z"
   },
   {
    "duration": 4,
    "start_time": "2024-09-19T20:32:28.244Z"
   },
   {
    "duration": 209,
    "start_time": "2024-09-19T20:32:28.249Z"
   },
   {
    "duration": 119,
    "start_time": "2024-09-19T20:32:28.459Z"
   },
   {
    "duration": 223,
    "start_time": "2024-09-19T20:32:28.580Z"
   },
   {
    "duration": 9,
    "start_time": "2024-09-19T20:32:28.812Z"
   },
   {
    "duration": 9,
    "start_time": "2024-09-19T20:32:28.823Z"
   },
   {
    "duration": 8,
    "start_time": "2024-09-19T20:32:28.833Z"
   },
   {
    "duration": 233,
    "start_time": "2024-09-19T20:32:28.846Z"
   },
   {
    "duration": 55,
    "start_time": "2024-09-19T20:32:29.081Z"
   },
   {
    "duration": 120,
    "start_time": "2024-09-19T20:32:29.138Z"
   },
   {
    "duration": 103,
    "start_time": "2024-09-19T20:32:29.260Z"
   },
   {
    "duration": 215,
    "start_time": "2024-09-19T20:32:29.365Z"
   },
   {
    "duration": 400,
    "start_time": "2024-09-19T20:32:29.582Z"
   },
   {
    "duration": 9,
    "start_time": "2024-09-19T20:32:29.985Z"
   },
   {
    "duration": 359,
    "start_time": "2024-09-19T20:32:29.996Z"
   },
   {
    "duration": 69,
    "start_time": "2024-09-19T20:32:30.357Z"
   },
   {
    "duration": 42,
    "start_time": "2024-09-19T20:32:30.428Z"
   },
   {
    "duration": 13,
    "start_time": "2024-09-19T20:32:30.472Z"
   },
   {
    "duration": 209,
    "start_time": "2024-09-19T20:32:30.486Z"
   },
   {
    "duration": 86,
    "start_time": "2024-09-19T20:32:30.697Z"
   },
   {
    "duration": 111,
    "start_time": "2024-09-19T20:32:30.786Z"
   },
   {
    "duration": 736,
    "start_time": "2024-09-19T20:32:30.900Z"
   },
   {
    "duration": 130,
    "start_time": "2024-09-19T20:32:31.638Z"
   },
   {
    "duration": 5,
    "start_time": "2024-09-19T20:32:31.770Z"
   },
   {
    "duration": 131,
    "start_time": "2024-09-19T20:32:31.777Z"
   },
   {
    "duration": 41,
    "start_time": "2024-09-19T20:32:31.912Z"
   },
   {
    "duration": 191,
    "start_time": "2024-09-19T20:32:38.886Z"
   },
   {
    "duration": 777,
    "start_time": "2024-09-19T20:40:03.175Z"
   },
   {
    "duration": 1310,
    "start_time": "2024-09-19T20:44:43.292Z"
   },
   {
    "duration": 743,
    "start_time": "2024-09-19T20:45:30.416Z"
   },
   {
    "duration": 718,
    "start_time": "2024-09-19T20:46:08.907Z"
   },
   {
    "duration": 15,
    "start_time": "2024-09-19T20:47:25.332Z"
   },
   {
    "duration": 22,
    "start_time": "2024-09-19T20:47:33.249Z"
   },
   {
    "duration": 606,
    "start_time": "2024-09-19T20:47:59.079Z"
   },
   {
    "duration": 590,
    "start_time": "2024-09-19T20:48:46.810Z"
   },
   {
    "duration": 1031,
    "start_time": "2024-09-19T20:48:51.006Z"
   },
   {
    "duration": 1036,
    "start_time": "2024-09-19T20:49:01.705Z"
   },
   {
    "duration": 1056,
    "start_time": "2024-09-19T20:50:40.182Z"
   },
   {
    "duration": 1068,
    "start_time": "2024-09-19T20:50:44.264Z"
   },
   {
    "duration": 1051,
    "start_time": "2024-09-19T20:51:05.431Z"
   },
   {
    "duration": 1030,
    "start_time": "2024-09-19T20:52:10.583Z"
   },
   {
    "duration": 1068,
    "start_time": "2024-09-19T20:52:23.333Z"
   },
   {
    "duration": 6,
    "start_time": "2024-09-19T21:05:57.599Z"
   },
   {
    "duration": 5,
    "start_time": "2024-09-19T21:07:06.353Z"
   },
   {
    "duration": 415,
    "start_time": "2024-09-19T21:09:37.090Z"
   },
   {
    "duration": 907,
    "start_time": "2024-09-19T21:09:37.507Z"
   },
   {
    "duration": 45,
    "start_time": "2024-09-19T21:09:38.416Z"
   },
   {
    "duration": 100,
    "start_time": "2024-09-19T21:09:38.464Z"
   },
   {
    "duration": 93,
    "start_time": "2024-09-19T21:09:38.567Z"
   },
   {
    "duration": 7,
    "start_time": "2024-09-19T21:09:38.662Z"
   },
   {
    "duration": 188,
    "start_time": "2024-09-19T21:09:38.670Z"
   },
   {
    "duration": 29,
    "start_time": "2024-09-19T21:09:38.859Z"
   },
   {
    "duration": 25,
    "start_time": "2024-09-19T21:09:38.890Z"
   },
   {
    "duration": 4,
    "start_time": "2024-09-19T21:09:38.918Z"
   },
   {
    "duration": 22,
    "start_time": "2024-09-19T21:09:38.924Z"
   },
   {
    "duration": 8,
    "start_time": "2024-09-19T21:09:38.948Z"
   },
   {
    "duration": 4,
    "start_time": "2024-09-19T21:09:38.958Z"
   },
   {
    "duration": 4,
    "start_time": "2024-09-19T21:09:38.966Z"
   },
   {
    "duration": 40,
    "start_time": "2024-09-19T21:09:38.972Z"
   },
   {
    "duration": 5,
    "start_time": "2024-09-19T21:09:39.014Z"
   },
   {
    "duration": 861,
    "start_time": "2024-09-19T21:09:39.020Z"
   },
   {
    "duration": 205,
    "start_time": "2024-09-19T21:09:39.883Z"
   },
   {
    "duration": 8,
    "start_time": "2024-09-19T21:09:40.090Z"
   },
   {
    "duration": 18,
    "start_time": "2024-09-19T21:09:40.099Z"
   },
   {
    "duration": 5,
    "start_time": "2024-09-19T21:09:40.119Z"
   },
   {
    "duration": 9,
    "start_time": "2024-09-19T21:09:40.126Z"
   },
   {
    "duration": 9,
    "start_time": "2024-09-19T21:09:40.136Z"
   },
   {
    "duration": 4,
    "start_time": "2024-09-19T21:09:40.146Z"
   },
   {
    "duration": 3,
    "start_time": "2024-09-19T21:09:40.153Z"
   },
   {
    "duration": 9,
    "start_time": "2024-09-19T21:09:40.158Z"
   },
   {
    "duration": 49,
    "start_time": "2024-09-19T21:09:40.169Z"
   },
   {
    "duration": 29,
    "start_time": "2024-09-19T21:09:40.220Z"
   },
   {
    "duration": 4,
    "start_time": "2024-09-19T21:09:40.251Z"
   },
   {
    "duration": 96,
    "start_time": "2024-09-19T21:09:40.257Z"
   },
   {
    "duration": 21,
    "start_time": "2024-09-19T21:09:40.355Z"
   },
   {
    "duration": 36,
    "start_time": "2024-09-19T21:09:40.377Z"
   },
   {
    "duration": 3,
    "start_time": "2024-09-19T21:09:40.415Z"
   },
   {
    "duration": 4,
    "start_time": "2024-09-19T21:09:40.420Z"
   },
   {
    "duration": 5,
    "start_time": "2024-09-19T21:09:40.426Z"
   },
   {
    "duration": 4,
    "start_time": "2024-09-19T21:09:40.434Z"
   },
   {
    "duration": 236,
    "start_time": "2024-09-19T21:09:40.440Z"
   },
   {
    "duration": 127,
    "start_time": "2024-09-19T21:09:40.678Z"
   },
   {
    "duration": 208,
    "start_time": "2024-09-19T21:09:40.807Z"
   },
   {
    "duration": 11,
    "start_time": "2024-09-19T21:09:41.017Z"
   },
   {
    "duration": 9,
    "start_time": "2024-09-19T21:09:41.033Z"
   },
   {
    "duration": 8,
    "start_time": "2024-09-19T21:09:41.044Z"
   },
   {
    "duration": 238,
    "start_time": "2024-09-19T21:09:41.053Z"
   },
   {
    "duration": 60,
    "start_time": "2024-09-19T21:09:41.293Z"
   },
   {
    "duration": 116,
    "start_time": "2024-09-19T21:09:41.354Z"
   },
   {
    "duration": 102,
    "start_time": "2024-09-19T21:09:41.472Z"
   },
   {
    "duration": 208,
    "start_time": "2024-09-19T21:09:41.576Z"
   },
   {
    "duration": 383,
    "start_time": "2024-09-19T21:09:41.786Z"
   },
   {
    "duration": 10,
    "start_time": "2024-09-19T21:09:42.171Z"
   },
   {
    "duration": 362,
    "start_time": "2024-09-19T21:09:42.183Z"
   },
   {
    "duration": 65,
    "start_time": "2024-09-19T21:09:42.547Z"
   },
   {
    "duration": 45,
    "start_time": "2024-09-19T21:09:42.614Z"
   },
   {
    "duration": 11,
    "start_time": "2024-09-19T21:09:42.660Z"
   },
   {
    "duration": 200,
    "start_time": "2024-09-19T21:09:42.673Z"
   },
   {
    "duration": 1053,
    "start_time": "2024-09-19T21:09:42.876Z"
   },
   {
    "duration": 750,
    "start_time": "2024-09-19T21:09:43.931Z"
   },
   {
    "duration": 145,
    "start_time": "2024-09-19T21:09:44.683Z"
   },
   {
    "duration": 5,
    "start_time": "2024-09-19T21:09:44.830Z"
   },
   {
    "duration": 121,
    "start_time": "2024-09-19T21:09:44.836Z"
   },
   {
    "duration": 41,
    "start_time": "2024-09-19T21:09:44.959Z"
   },
   {
    "duration": 196,
    "start_time": "2024-09-19T21:09:45.014Z"
   }
  ],
  "colab": {
   "provenance": []
  },
  "kernelspec": {
   "display_name": "Python 3",
   "language": "python",
   "name": "python3"
  },
  "language_info": {
   "codemirror_mode": {
    "name": "ipython",
    "version": 3
   },
   "file_extension": ".py",
   "mimetype": "text/x-python",
   "name": "python",
   "nbconvert_exporter": "python",
   "pygments_lexer": "ipython3",
   "version": "3.6.4"
  },
  "toc": {
   "base_numbering": 1,
   "nav_menu": {},
   "number_sections": true,
   "sideBar": true,
   "skip_h1_title": true,
   "title_cell": "Table of Contents",
   "title_sidebar": "Contents",
   "toc_cell": false,
   "toc_position": {
    "height": "calc(100% - 180px)",
    "left": "10px",
    "top": "150px",
    "width": "273.477px"
   },
   "toc_section_display": true,
   "toc_window_display": true
  },
  "vscode": {
   "interpreter": {
    "hash": "01a7be9ec63e704a62cefc5fe7a4756944464ee731be31632bdf42a4cb4688cf"
   }
  }
 },
 "nbformat": 4,
 "nbformat_minor": 5
}
